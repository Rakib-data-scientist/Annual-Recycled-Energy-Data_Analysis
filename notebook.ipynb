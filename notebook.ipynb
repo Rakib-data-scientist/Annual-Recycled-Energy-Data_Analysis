{
 "cells": [
  {
   "attachments": {},
   "cell_type": "markdown",
   "metadata": {
    "cell_id": "00000-9934150f-7778-4e0b-a77b-abb7dd58c037",
    "deepnote_cell_type": "markdown",
    "tags": []
   },
   "source": [
    "# Annual Recycled Energy Saved in Singapore\n",
    "*Learn how much Singapore is saving energy per years by recycling plastics, paper, glass, ferrous and non-ferrous metal.*"
   ]
  },
  {
   "attachments": {},
   "cell_type": "markdown",
   "metadata": {
    "cell_id": "00002-da3e2d43-7274-47c3-ac6d-548c7869499e",
    "deepnote_cell_type": "markdown",
    "tags": []
   },
   "source": [
    "In this project, we will clean our data and prepares for data analysis. We will be using [Singapore NEA Energy Savings | Kaggle](https://www.kaggle.com/eminbasturk/singapore-nea-energy-savings) data to analyze the total garbage collection and recycling rate. The material names are different as these data were collected from different resources. We will be added the latest data of 2020 [waste-statistics-and-overall-recycling](https://www.nea.gov.sg/our-services/waste-management/waste-statistics-and-overall-recycling) from the website so that we can have the latest statics analysis. We will be finding how much energy we can produce using [Greentumble](https://greentumble.com/how-does-recycling-save-energy/) key information.\n",
    "\n",
    "We will be using **Recycling statistics** to calculate energy saved every year from 2003 to 2020 based on five waste types, plastics, paper, glass, ferrous and non-ferrous metal."
   ]
  },
  {
   "attachments": {},
   "cell_type": "markdown",
   "metadata": {
    "cell_id": "00003-15923db1-30ca-4aee-9100-a2e36f2c8254",
    "deepnote_cell_type": "markdown",
    "tags": []
   },
   "source": [
    "## Loading Data"
   ]
  },
  {
   "cell_type": "code",
   "execution_count": 1,
   "metadata": {
    "allow_embed": "code_output",
    "cell_id": "00001-4c8eb121-86c9-4fc5-b22f-8fbe5836ee84",
    "collapsed": true,
    "dc": {
     "key": "4"
    },
    "deepnote_cell_type": "code",
    "deepnote_to_be_reexecuted": false,
    "execution_millis": 1854,
    "execution_start": 1629195000526,
    "source_hash": "dbb6803c",
    "tags": [
     "sample_code"
    ],
    "trusted": true
   },
   "outputs": [],
   "source": [
    "import pandas as pd\n",
    "import plotly.express as px\n",
    "import plotly.graph_objects as go\n",
    "\n",
    "energy_saved = pd.read_csv('./Data/energy_saved.csv')\n",
    "waste_03_17 = pd.read_csv('./Data/wastestats.csv')\n",
    "waste_18_20 = pd.read_csv('./Data/2018_2020_waste.csv')"
   ]
  },
  {
   "attachments": {},
   "cell_type": "markdown",
   "metadata": {
    "cell_id": "00005-ed633e35-53e8-4f11-a6d9-ece9723fad9b",
    "deepnote_cell_type": "markdown",
    "tags": []
   },
   "source": [
    "## Cleaning Data"
   ]
  },
  {
   "cell_type": "code",
   "execution_count": 2,
   "metadata": {
    "allow_embed": "code_output",
    "cell_id": "00002-8abe5d4a-0b6b-4184-a920-e5b76827d7d0",
    "collapsed": true,
    "dc": {
     "key": "4"
    },
    "deepnote_cell_type": "code",
    "deepnote_to_be_reexecuted": false,
    "execution_millis": 9,
    "execution_start": 1629195002392,
    "source_hash": "5b33c50b",
    "trusted": true
   },
   "outputs": [],
   "source": [
    "clean_waste_18_20 = waste_18_20.rename(\n",
    "    columns={\n",
    "        \"Waste Type\": \"waste_type\",\n",
    "        \"Total Generated ('000 tonnes)\": \"total_waste_generated_tonne\",\n",
    "        \"Total Recycled ('000 tonnes)\": \"total_waste_recycled_tonne\",\n",
    "        \"Year\": \"year\",\n",
    "    }\n",
    ")\n",
    "clean_waste_18_20[\"total_waste_generated_tonne\"] = (\n",
    "    clean_waste_18_20[\"total_waste_generated_tonne\"] * 1000\n",
    ")\n",
    "clean_waste_18_20[\"total_waste_recycled_tonne\"] = (\n",
    "    clean_waste_18_20[\"total_waste_recycled_tonne\"] * 1000\n",
    ")\n"
   ]
  },
  {
   "attachments": {},
   "cell_type": "markdown",
   "metadata": {
    "cell_id": "00003-41bf9be9-52f5-4d0e-bf6a-dafc308d7e28",
    "deepnote_cell_type": "markdown",
    "tags": []
   },
   "source": [
    "https://greentumble.com/how-does-recycling-save-energy/"
   ]
  },
  {
   "cell_type": "code",
   "execution_count": 3,
   "metadata": {
    "allow_embed": "code_output",
    "cell_id": "00005-aa0f06cb-e58b-4d95-91d0-a40536dc72fe",
    "deepnote_cell_type": "code",
    "deepnote_to_be_reexecuted": false,
    "execution_millis": 58,
    "execution_start": 1629195002413,
    "source_hash": "8824205",
    "tags": []
   },
   "outputs": [
    {
     "data": {
      "application/vnd.deepnote.dataframe.v2+json": {
       "column_count": 6,
       "columns": [
        {
         "dtype": "object",
         "name": "The table gives the amount of energy saved in kilowatt hour (kWh) and the amount of crude oil (barrels) by recycling 1 metric tonne (1000 kilogram)  per waste type",
         "stats": {
          "categories": [
           {
            "count": 1,
            "name": "1 barrel oil is approximately 159 litres of oil"
           },
           {
            "count": 3,
            "name": "3 others"
           },
           {
            "count": 1,
            "name": "Missing"
           }
          ],
          "nan_count": 1,
          "unique_count": 4
         }
        },
        {
         "dtype": "object",
         "name": "Unnamed: 1",
         "stats": {
          "categories": [
           {
            "count": 1,
            "name": "Plastic"
           },
           {
            "count": 2,
            "name": "2 others"
           },
           {
            "count": 2,
            "name": "Missing"
           }
          ],
          "nan_count": 2,
          "unique_count": 3
         }
        },
        {
         "dtype": "object",
         "name": "Unnamed: 2",
         "stats": {
          "categories": [
           {
            "count": 1,
            "name": "Glass"
           },
           {
            "count": 2,
            "name": "2 others"
           },
           {
            "count": 2,
            "name": "Missing"
           }
          ],
          "nan_count": 2,
          "unique_count": 3
         }
        },
        {
         "dtype": "object",
         "name": "Unnamed: 3",
         "stats": {
          "categories": [
           {
            "count": 1,
            "name": "Ferrous Metal"
           },
           {
            "count": 2,
            "name": "2 others"
           },
           {
            "count": 2,
            "name": "Missing"
           }
          ],
          "nan_count": 2,
          "unique_count": 3
         }
        },
        {
         "dtype": "object",
         "name": "Unnamed: 4",
         "stats": {
          "categories": [
           {
            "count": 1,
            "name": "Non-Ferrous Metal"
           },
           {
            "count": 2,
            "name": "2 others"
           },
           {
            "count": 2,
            "name": "Missing"
           }
          ],
          "nan_count": 2,
          "unique_count": 3
         }
        },
        {
         "dtype": "object",
         "name": "Unnamed: 5",
         "stats": {
          "categories": [
           {
            "count": 1,
            "name": "Paper"
           },
           {
            "count": 2,
            "name": "2 others"
           },
           {
            "count": 2,
            "name": "Missing"
           }
          ],
          "nan_count": 2,
          "unique_count": 3
         }
        },
        {
         "dtype": "int64",
         "name": "_deepnote_index_column"
        }
       ],
       "row_count": 5,
       "rows_bottom": null,
       "rows_top": [
        {
         "The table gives the amount of energy saved in kilowatt hour (kWh) and the amount of crude oil (barrels) by recycling 1 metric tonne (1000 kilogram)  per waste type": "1 barrel oil is approximately 159 litres of oil",
         "Unnamed: 1": "nan",
         "Unnamed: 2": "nan",
         "Unnamed: 3": "nan",
         "Unnamed: 4": "nan",
         "Unnamed: 5": "nan",
         "_deepnote_index_column": 0
        },
        {
         "The table gives the amount of energy saved in kilowatt hour (kWh) and the amount of crude oil (barrels) by recycling 1 metric tonne (1000 kilogram)  per waste type": "nan",
         "Unnamed: 1": "nan",
         "Unnamed: 2": "nan",
         "Unnamed: 3": "nan",
         "Unnamed: 4": "nan",
         "Unnamed: 5": "nan",
         "_deepnote_index_column": 1
        },
        {
         "The table gives the amount of energy saved in kilowatt hour (kWh) and the amount of crude oil (barrels) by recycling 1 metric tonne (1000 kilogram)  per waste type": "material",
         "Unnamed: 1": "Plastic",
         "Unnamed: 2": "Glass",
         "Unnamed: 3": "Ferrous Metal",
         "Unnamed: 4": "Non-Ferrous Metal",
         "Unnamed: 5": "Paper",
         "_deepnote_index_column": 2
        },
        {
         "The table gives the amount of energy saved in kilowatt hour (kWh) and the amount of crude oil (barrels) by recycling 1 metric tonne (1000 kilogram)  per waste type": "energy_saved",
         "Unnamed: 1": "5774 Kwh",
         "Unnamed: 2": "42 Kwh",
         "Unnamed: 3": "642 Kwh",
         "Unnamed: 4": "14000 Kwh",
         "Unnamed: 5": "4100 kWh",
         "_deepnote_index_column": 3
        },
        {
         "The table gives the amount of energy saved in kilowatt hour (kWh) and the amount of crude oil (barrels) by recycling 1 metric tonne (1000 kilogram)  per waste type": "crude_oil saved",
         "Unnamed: 1": "16 barrels",
         "Unnamed: 2": "0.12 barrels",
         "Unnamed: 3": "1.8 barrels",
         "Unnamed: 4": "40 barrels",
         "Unnamed: 5": "11 barrels",
         "_deepnote_index_column": 4
        }
       ]
      },
      "text/html": [
       "<div>\n",
       "<style scoped>\n",
       "    .dataframe tbody tr th:only-of-type {\n",
       "        vertical-align: middle;\n",
       "    }\n",
       "\n",
       "    .dataframe tbody tr th {\n",
       "        vertical-align: top;\n",
       "    }\n",
       "\n",
       "    .dataframe thead th {\n",
       "        text-align: right;\n",
       "    }\n",
       "</style>\n",
       "<table border=\"1\" class=\"dataframe\">\n",
       "  <thead>\n",
       "    <tr style=\"text-align: right;\">\n",
       "      <th></th>\n",
       "      <th>The table gives the amount of energy saved in kilowatt hour (kWh) and the amount of crude oil (barrels) by recycling 1 metric tonne (1000 kilogram)  per waste type</th>\n",
       "      <th>Unnamed: 1</th>\n",
       "      <th>Unnamed: 2</th>\n",
       "      <th>Unnamed: 3</th>\n",
       "      <th>Unnamed: 4</th>\n",
       "      <th>Unnamed: 5</th>\n",
       "    </tr>\n",
       "  </thead>\n",
       "  <tbody>\n",
       "    <tr>\n",
       "      <th>0</th>\n",
       "      <td>1 barrel oil is approximately 159 litres of oil</td>\n",
       "      <td>NaN</td>\n",
       "      <td>NaN</td>\n",
       "      <td>NaN</td>\n",
       "      <td>NaN</td>\n",
       "      <td>NaN</td>\n",
       "    </tr>\n",
       "    <tr>\n",
       "      <th>1</th>\n",
       "      <td>NaN</td>\n",
       "      <td>NaN</td>\n",
       "      <td>NaN</td>\n",
       "      <td>NaN</td>\n",
       "      <td>NaN</td>\n",
       "      <td>NaN</td>\n",
       "    </tr>\n",
       "    <tr>\n",
       "      <th>2</th>\n",
       "      <td>material</td>\n",
       "      <td>Plastic</td>\n",
       "      <td>Glass</td>\n",
       "      <td>Ferrous Metal</td>\n",
       "      <td>Non-Ferrous Metal</td>\n",
       "      <td>Paper</td>\n",
       "    </tr>\n",
       "    <tr>\n",
       "      <th>3</th>\n",
       "      <td>energy_saved</td>\n",
       "      <td>5774 Kwh</td>\n",
       "      <td>42 Kwh</td>\n",
       "      <td>642 Kwh</td>\n",
       "      <td>14000 Kwh</td>\n",
       "      <td>4100 kWh</td>\n",
       "    </tr>\n",
       "    <tr>\n",
       "      <th>4</th>\n",
       "      <td>crude_oil saved</td>\n",
       "      <td>16 barrels</td>\n",
       "      <td>0.12 barrels</td>\n",
       "      <td>1.8 barrels</td>\n",
       "      <td>40 barrels</td>\n",
       "      <td>11 barrels</td>\n",
       "    </tr>\n",
       "  </tbody>\n",
       "</table>\n",
       "</div>"
      ],
      "text/plain": [
       "  The table gives the amount of energy saved in kilowatt hour (kWh) and the amount of crude oil (barrels) by recycling 1 metric tonne (1000 kilogram)  per waste type  \\\n",
       "0    1 barrel oil is approximately 159 litres of oil                                                                                                                    \n",
       "1                                                NaN                                                                                                                    \n",
       "2                                           material                                                                                                                    \n",
       "3                                       energy_saved                                                                                                                    \n",
       "4                                    crude_oil saved                                                                                                                    \n",
       "\n",
       "   Unnamed: 1    Unnamed: 2     Unnamed: 3         Unnamed: 4  Unnamed: 5  \n",
       "0         NaN           NaN            NaN                NaN         NaN  \n",
       "1         NaN           NaN            NaN                NaN         NaN  \n",
       "2     Plastic         Glass  Ferrous Metal  Non-Ferrous Metal       Paper  \n",
       "3    5774 Kwh        42 Kwh        642 Kwh          14000 Kwh    4100 kWh  \n",
       "4  16 barrels  0.12 barrels    1.8 barrels         40 barrels  11 barrels  "
      ]
     },
     "execution_count": 3,
     "metadata": {},
     "output_type": "execute_result"
    }
   ],
   "source": [
    "energy_saved"
   ]
  },
  {
   "attachments": {},
   "cell_type": "markdown",
   "metadata": {
    "cell_id": "00009-5585297d-713c-4fb6-b954-ccc1e65ff978",
    "deepnote_cell_type": "markdown",
    "tags": []
   },
   "source": [
    "- Transpose\n",
    "- Removed first two columns and first row\n",
    "- Resetting index\n",
    "- Renaming the columns\n",
    "\n",
    "As you can see, we have three columns, material, energy_saved, and crude_oil_saved."
   ]
  },
  {
   "cell_type": "code",
   "execution_count": 4,
   "metadata": {
    "allow_embed": "code_output",
    "cell_id": "00003-54216ec5-9494-40f3-832f-7ffcff3dc793",
    "collapsed": true,
    "dc": {
     "key": "4"
    },
    "deepnote_cell_type": "code",
    "deepnote_to_be_reexecuted": false,
    "execution_millis": 55,
    "execution_start": 1629195002465,
    "source_hash": "d542d784",
    "trusted": true
   },
   "outputs": [
    {
     "data": {
      "application/vnd.deepnote.dataframe.v2+json": {
       "column_count": 3,
       "columns": [
        {
         "dtype": "object",
         "name": "material",
         "stats": {
          "categories": [
           {
            "count": 1,
            "name": "Plastic"
           },
           {
            "count": 1,
            "name": "Glass"
           },
           {
            "count": 3,
            "name": "3 others"
           }
          ],
          "nan_count": 0,
          "unique_count": 5
         }
        },
        {
         "dtype": "object",
         "name": "energy_saved",
         "stats": {
          "categories": [
           {
            "count": 1,
            "name": "5774 Kwh"
           },
           {
            "count": 1,
            "name": "42 Kwh"
           },
           {
            "count": 3,
            "name": "3 others"
           }
          ],
          "nan_count": 0,
          "unique_count": 5
         }
        },
        {
         "dtype": "object",
         "name": "crude_oil_saved",
         "stats": {
          "categories": [
           {
            "count": 1,
            "name": "16 barrels"
           },
           {
            "count": 1,
            "name": "0.12 barrels"
           },
           {
            "count": 3,
            "name": "3 others"
           }
          ],
          "nan_count": 0,
          "unique_count": 5
         }
        },
        {
         "dtype": "int64",
         "name": "_deepnote_index_column"
        }
       ],
       "row_count": 5,
       "rows_bottom": null,
       "rows_top": [
        {
         "_deepnote_index_column": 0,
         "crude_oil_saved": "16 barrels",
         "energy_saved": "5774 Kwh",
         "material": "Plastic"
        },
        {
         "_deepnote_index_column": 1,
         "crude_oil_saved": "0.12 barrels",
         "energy_saved": "42 Kwh",
         "material": "Glass"
        },
        {
         "_deepnote_index_column": 2,
         "crude_oil_saved": "1.8 barrels",
         "energy_saved": "642 Kwh",
         "material": "Ferrous Metal"
        },
        {
         "_deepnote_index_column": 3,
         "crude_oil_saved": "40 barrels",
         "energy_saved": "14000 Kwh",
         "material": "Non-Ferrous Metal"
        },
        {
         "_deepnote_index_column": 4,
         "crude_oil_saved": "11 barrels",
         "energy_saved": "4100 kWh",
         "material": "Paper"
        }
       ]
      },
      "text/html": [
       "<div>\n",
       "<style scoped>\n",
       "    .dataframe tbody tr th:only-of-type {\n",
       "        vertical-align: middle;\n",
       "    }\n",
       "\n",
       "    .dataframe tbody tr th {\n",
       "        vertical-align: top;\n",
       "    }\n",
       "\n",
       "    .dataframe thead th {\n",
       "        text-align: right;\n",
       "    }\n",
       "</style>\n",
       "<table border=\"1\" class=\"dataframe\">\n",
       "  <thead>\n",
       "    <tr style=\"text-align: right;\">\n",
       "      <th></th>\n",
       "      <th>material</th>\n",
       "      <th>energy_saved</th>\n",
       "      <th>crude_oil_saved</th>\n",
       "    </tr>\n",
       "  </thead>\n",
       "  <tbody>\n",
       "    <tr>\n",
       "      <th>0</th>\n",
       "      <td>Plastic</td>\n",
       "      <td>5774 Kwh</td>\n",
       "      <td>16 barrels</td>\n",
       "    </tr>\n",
       "    <tr>\n",
       "      <th>1</th>\n",
       "      <td>Glass</td>\n",
       "      <td>42 Kwh</td>\n",
       "      <td>0.12 barrels</td>\n",
       "    </tr>\n",
       "    <tr>\n",
       "      <th>2</th>\n",
       "      <td>Ferrous Metal</td>\n",
       "      <td>642 Kwh</td>\n",
       "      <td>1.8 barrels</td>\n",
       "    </tr>\n",
       "    <tr>\n",
       "      <th>3</th>\n",
       "      <td>Non-Ferrous Metal</td>\n",
       "      <td>14000 Kwh</td>\n",
       "      <td>40 barrels</td>\n",
       "    </tr>\n",
       "    <tr>\n",
       "      <th>4</th>\n",
       "      <td>Paper</td>\n",
       "      <td>4100 kWh</td>\n",
       "      <td>11 barrels</td>\n",
       "    </tr>\n",
       "  </tbody>\n",
       "</table>\n",
       "</div>"
      ],
      "text/plain": [
       "            material energy_saved crude_oil_saved\n",
       "0            Plastic     5774 Kwh      16 barrels\n",
       "1              Glass       42 Kwh    0.12 barrels\n",
       "2      Ferrous Metal      642 Kwh     1.8 barrels\n",
       "3  Non-Ferrous Metal    14000 Kwh      40 barrels\n",
       "4              Paper     4100 kWh      11 barrels"
      ]
     },
     "execution_count": 4,
     "metadata": {},
     "output_type": "execute_result"
    }
   ],
   "source": [
    "clean_energy_saved = (\n",
    "    energy_saved.T.iloc[1:, 2:]\n",
    "    .reset_index(drop=True)\n",
    "    .rename(columns={2: \"material\", 3: \"energy_saved\", 4: \"crude_oil_saved\"})\n",
    ")\n",
    "clean_energy_saved"
   ]
  },
  {
   "cell_type": "code",
   "execution_count": 5,
   "metadata": {
    "allow_embed": "code_output",
    "cell_id": "00004-01695c9f-f4d0-4b21-a871-e91b9dee5669",
    "collapsed": true,
    "dc": {
     "key": "4"
    },
    "deepnote_cell_type": "code",
    "deepnote_to_be_reexecuted": false,
    "execution_millis": 0,
    "execution_start": 1629195002493,
    "source_hash": "566a2ebc",
    "trusted": true
   },
   "outputs": [],
   "source": [
    "clean_waste_03_17 = waste_03_17.loc[\n",
    "    :,\n",
    "    [\n",
    "        \"waste_type\",\n",
    "        \"total_waste_generated_tonne\",\n",
    "        \"total_waste_recycled_tonne\",\n",
    "        \"recycling_rate\",\n",
    "        \"year\",\n",
    "    ],\n",
    "]\n"
   ]
  },
  {
   "cell_type": "code",
   "execution_count": 6,
   "metadata": {
    "cell_id": "00005-d1461bf4-a8f1-4e53-b315-71ecabb1f698",
    "deepnote_cell_type": "code",
    "deepnote_to_be_reexecuted": false,
    "execution_millis": 1,
    "execution_start": 1629195002501,
    "source_hash": "30b1209b",
    "tags": []
   },
   "outputs": [],
   "source": [
    "# clean_waste.iloc[16,2] = 1260000"
   ]
  },
  {
   "attachments": {},
   "cell_type": "markdown",
   "metadata": {
    "cell_id": "00013-1b805cec-27e9-4ff3-bb2b-d8c4adfea8ff",
    "deepnote_cell_type": "markdown",
    "tags": []
   },
   "source": [
    "Let's add recycling rate into our DataFrame as we will be using it later to analysis."
   ]
  },
  {
   "cell_type": "code",
   "execution_count": 7,
   "metadata": {
    "allow_embed": "code_output",
    "cell_id": "00005-57c0aeda-e284-457a-842d-9374409852c2",
    "deepnote_cell_type": "code",
    "deepnote_to_be_reexecuted": false,
    "execution_millis": 21,
    "execution_start": 1629195002535,
    "source_hash": "65b504f",
    "tags": []
   },
   "outputs": [
    {
     "data": {
      "application/vnd.deepnote.dataframe.v2+json": {
       "column_count": 5,
       "columns": [
        {
         "dtype": "object",
         "name": "waste_type",
         "stats": {
          "categories": [
           {
            "count": 1,
            "name": "Construction& Demolition"
           },
           {
            "count": 1,
            "name": "Ferrous Metal"
           },
           {
            "count": 3,
            "name": "3 others"
           }
          ],
          "nan_count": 0,
          "unique_count": 5
         }
        },
        {
         "dtype": "int64",
         "name": "total_waste_generated_tonne",
         "stats": {
          "histogram": [
           {
            "bin_end": 849100,
            "bin_start": 763000,
            "count": 1
           },
           {
            "bin_end": 935200,
            "bin_start": 849100,
            "count": 0
           },
           {
            "bin_end": 1021300,
            "bin_start": 935200,
            "count": 1
           },
           {
            "bin_end": 1107400,
            "bin_start": 1021300,
            "count": 1
           },
           {
            "bin_end": 1193500,
            "bin_start": 1107400,
            "count": 0
           },
           {
            "bin_end": 1279600,
            "bin_start": 1193500,
            "count": 1
           },
           {
            "bin_end": 1365700,
            "bin_start": 1279600,
            "count": 0
           },
           {
            "bin_end": 1451800,
            "bin_start": 1365700,
            "count": 0
           },
           {
            "bin_end": 1537900,
            "bin_start": 1451800,
            "count": 0
           },
           {
            "bin_end": 1624000,
            "bin_start": 1537900,
            "count": 1
           }
          ],
          "max": "1624000",
          "min": "763000",
          "nan_count": 0,
          "unique_count": 5
         }
        },
        {
         "dtype": "int64",
         "name": "total_waste_recycled_tonne",
         "stats": {
          "histogram": [
           {
            "bin_end": 198700,
            "bin_start": 41000,
            "count": 3
           },
           {
            "bin_end": 356400,
            "bin_start": 198700,
            "count": 0
           },
           {
            "bin_end": 514100,
            "bin_start": 356400,
            "count": 0
           },
           {
            "bin_end": 671800,
            "bin_start": 514100,
            "count": 1
           },
           {
            "bin_end": 829500,
            "bin_start": 671800,
            "count": 0
           },
           {
            "bin_end": 987200,
            "bin_start": 829500,
            "count": 0
           },
           {
            "bin_end": 1144900,
            "bin_start": 987200,
            "count": 0
           },
           {
            "bin_end": 1302600,
            "bin_start": 1144900,
            "count": 0
           },
           {
            "bin_end": 1460300,
            "bin_start": 1302600,
            "count": 0
           },
           {
            "bin_end": 1618000,
            "bin_start": 1460300,
            "count": 1
           }
          ],
          "max": "1618000",
          "min": "41000",
          "nan_count": 0,
          "unique_count": 4
         }
        },
        {
         "dtype": "int64",
         "name": "year",
         "stats": {
          "histogram": [
           {
            "bin_end": 2017.6,
            "bin_start": 2017.5,
            "count": 0
           },
           {
            "bin_end": 2017.7,
            "bin_start": 2017.6,
            "count": 0
           },
           {
            "bin_end": 2017.8,
            "bin_start": 2017.7,
            "count": 0
           },
           {
            "bin_end": 2017.9,
            "bin_start": 2017.8,
            "count": 0
           },
           {
            "bin_end": 2018,
            "bin_start": 2017.9,
            "count": 0
           },
           {
            "bin_end": 2018.1,
            "bin_start": 2018,
            "count": 5
           },
           {
            "bin_end": 2018.2,
            "bin_start": 2018.1,
            "count": 0
           },
           {
            "bin_end": 2018.3,
            "bin_start": 2018.2,
            "count": 0
           },
           {
            "bin_end": 2018.4,
            "bin_start": 2018.3,
            "count": 0
           },
           {
            "bin_end": 2018.5,
            "bin_start": 2018.4,
            "count": 0
           }
          ],
          "max": "2018",
          "min": "2018",
          "nan_count": 0,
          "unique_count": 1
         }
        },
        {
         "dtype": "float64",
         "name": "recycling_rate",
         "stats": {
          "histogram": [
           {
            "bin_end": 0.136,
            "bin_start": 0.04,
            "count": 2
           },
           {
            "bin_end": 0.232,
            "bin_start": 0.136,
            "count": 1
           },
           {
            "bin_end": 0.328,
            "bin_start": 0.232,
            "count": 0
           },
           {
            "bin_end": 0.424,
            "bin_start": 0.328,
            "count": 0
           },
           {
            "bin_end": 0.52,
            "bin_start": 0.424,
            "count": 0
           },
           {
            "bin_end": 0.6160000000000001,
            "bin_start": 0.52,
            "count": 1
           },
           {
            "bin_end": 0.7120000000000001,
            "bin_start": 0.6160000000000001,
            "count": 0
           },
           {
            "bin_end": 0.808,
            "bin_start": 0.7120000000000001,
            "count": 0
           },
           {
            "bin_end": 0.904,
            "bin_start": 0.808,
            "count": 0
           },
           {
            "bin_end": 1,
            "bin_start": 0.904,
            "count": 1
           }
          ],
          "max": "1.0",
          "min": "0.04",
          "nan_count": 0,
          "unique_count": 5
         }
        },
        {
         "dtype": "int64",
         "name": "_deepnote_index_column"
        }
       ],
       "row_count": 5,
       "rows_bottom": null,
       "rows_top": [
        {
         "_deepnote_index_column": 0,
         "recycling_rate": 1,
         "total_waste_generated_tonne": 1624000,
         "total_waste_recycled_tonne": 1618000,
         "waste_type": "Construction& Demolition",
         "year": 2018
        },
        {
         "_deepnote_index_column": 1,
         "recycling_rate": 0.1,
         "total_waste_generated_tonne": 1269000,
         "total_waste_recycled_tonne": 126000,
         "waste_type": "Ferrous Metal",
         "year": 2018
        },
        {
         "_deepnote_index_column": 2,
         "recycling_rate": 0.56,
         "total_waste_generated_tonne": 1054000,
         "total_waste_recycled_tonne": 586000,
         "waste_type": "Paper/Cardboard",
         "year": 2018
        },
        {
         "_deepnote_index_column": 3,
         "recycling_rate": 0.04,
         "total_waste_generated_tonne": 949000,
         "total_waste_recycled_tonne": 41000,
         "waste_type": "Plastics",
         "year": 2018
        },
        {
         "_deepnote_index_column": 4,
         "recycling_rate": 0.17,
         "total_waste_generated_tonne": 763000,
         "total_waste_recycled_tonne": 126000,
         "waste_type": "Food",
         "year": 2018
        }
       ]
      },
      "text/html": [
       "<div>\n",
       "<style scoped>\n",
       "    .dataframe tbody tr th:only-of-type {\n",
       "        vertical-align: middle;\n",
       "    }\n",
       "\n",
       "    .dataframe tbody tr th {\n",
       "        vertical-align: top;\n",
       "    }\n",
       "\n",
       "    .dataframe thead th {\n",
       "        text-align: right;\n",
       "    }\n",
       "</style>\n",
       "<table border=\"1\" class=\"dataframe\">\n",
       "  <thead>\n",
       "    <tr style=\"text-align: right;\">\n",
       "      <th></th>\n",
       "      <th>waste_type</th>\n",
       "      <th>total_waste_generated_tonne</th>\n",
       "      <th>total_waste_recycled_tonne</th>\n",
       "      <th>year</th>\n",
       "      <th>recycling_rate</th>\n",
       "    </tr>\n",
       "  </thead>\n",
       "  <tbody>\n",
       "    <tr>\n",
       "      <th>0</th>\n",
       "      <td>Construction&amp; Demolition</td>\n",
       "      <td>1624000</td>\n",
       "      <td>1618000</td>\n",
       "      <td>2018</td>\n",
       "      <td>1.00</td>\n",
       "    </tr>\n",
       "    <tr>\n",
       "      <th>1</th>\n",
       "      <td>Ferrous Metal</td>\n",
       "      <td>1269000</td>\n",
       "      <td>126000</td>\n",
       "      <td>2018</td>\n",
       "      <td>0.10</td>\n",
       "    </tr>\n",
       "    <tr>\n",
       "      <th>2</th>\n",
       "      <td>Paper/Cardboard</td>\n",
       "      <td>1054000</td>\n",
       "      <td>586000</td>\n",
       "      <td>2018</td>\n",
       "      <td>0.56</td>\n",
       "    </tr>\n",
       "    <tr>\n",
       "      <th>3</th>\n",
       "      <td>Plastics</td>\n",
       "      <td>949000</td>\n",
       "      <td>41000</td>\n",
       "      <td>2018</td>\n",
       "      <td>0.04</td>\n",
       "    </tr>\n",
       "    <tr>\n",
       "      <th>4</th>\n",
       "      <td>Food</td>\n",
       "      <td>763000</td>\n",
       "      <td>126000</td>\n",
       "      <td>2018</td>\n",
       "      <td>0.17</td>\n",
       "    </tr>\n",
       "  </tbody>\n",
       "</table>\n",
       "</div>"
      ],
      "text/plain": [
       "                 waste_type  total_waste_generated_tonne  \\\n",
       "0  Construction& Demolition                      1624000   \n",
       "1             Ferrous Metal                      1269000   \n",
       "2           Paper/Cardboard                      1054000   \n",
       "3                  Plastics                       949000   \n",
       "4                      Food                       763000   \n",
       "\n",
       "   total_waste_recycled_tonne  year  recycling_rate  \n",
       "0                     1618000  2018            1.00  \n",
       "1                      126000  2018            0.10  \n",
       "2                      586000  2018            0.56  \n",
       "3                       41000  2018            0.04  \n",
       "4                      126000  2018            0.17  "
      ]
     },
     "execution_count": 7,
     "metadata": {},
     "output_type": "execute_result"
    }
   ],
   "source": [
    "clean_waste_18_20[\"recycling_rate\"] = round(\n",
    "    clean_waste_18_20[\"total_waste_recycled_tonne\"]\n",
    "    / clean_waste_18_20[\"total_waste_generated_tonne\"],\n",
    "    2,\n",
    ")\n",
    "clean_waste_18_20.head()"
   ]
  },
  {
   "attachments": {},
   "cell_type": "markdown",
   "metadata": {
    "cell_id": "00015-c62de290-703e-4e36-b2c6-d652bef959b6",
    "deepnote_cell_type": "markdown",
    "tags": []
   },
   "source": [
    "## Data Analysis"
   ]
  },
  {
   "cell_type": "code",
   "execution_count": 8,
   "metadata": {
    "allow_embed": "code_output",
    "cell_id": "00005-05616f1d-d706-4127-8a54-0482d613b656",
    "dc": {
     "key": "4"
    },
    "deepnote_cell_type": "code",
    "deepnote_to_be_reexecuted": false,
    "execution_millis": 297,
    "execution_start": 1629195002606,
    "source_hash": "66b85324",
    "trusted": true
   },
   "outputs": [
    {
     "data": {
      "text/html": [
       "<html>\n",
       "<head><meta charset=\"utf-8\" /></head>\n",
       "<body>\n",
       "    <div>            <script src=\"https://cdnjs.cloudflare.com/ajax/libs/mathjax/2.7.5/MathJax.js?config=TeX-AMS-MML_SVG\"></script><script type=\"text/javascript\">if (window.MathJax) {MathJax.Hub.Config({SVG: {font: \"STIX-Web\"}});}</script>                <script type=\"text/javascript\">window.PlotlyConfig = {MathJaxConfig: 'local'};</script>\n",
       "        <script src=\"https://cdn.plot.ly/plotly-2.2.0.min.js\"></script>                <div id=\"473de4aa-45f8-4ae8-895a-6d6fe932fbd5\" class=\"plotly-graph-div\" style=\"height:525px; width:100%;\"></div>            <script type=\"text/javascript\">                                    window.PLOTLYENV=window.PLOTLYENV || {};                                    if (document.getElementById(\"473de4aa-45f8-4ae8-895a-6d6fe932fbd5\")) {                    Plotly.newPlot(                        \"473de4aa-45f8-4ae8-895a-6d6fe932fbd5\",                        [{\"name\":\"Waste Generated\",\"type\":\"bar\",\"x\":[2003,2004,2005,2006,2007,2008,2009,2010,2011,2012,2013,2014,2015,2016,2017,2018,2019,2020],\"y\":[4728200,4789700,5018200,5220500,5600800,5970200,6114100,6517000,6898300,7269500,7851500,7514500,7673500,7814200,7704300,7695000,7234000,5880000]},{\"name\":\"Waste Recycled\",\"type\":\"bar\",\"x\":[2003,2004,2005,2006,2007,2008,2009,2010,2011,2012,2013,2014,2015,2016,2017,2018,2019,2020],\"y\":[2223200.0,2307100.0,2469400.0,2656900.0,3034800.0,3342600.0,3485200.0,3757500.0,4038800.0,4335600.0,4825900.0,4471100.0,4649700.0,4769000.0,4724300.0,4726000.0,4247000.0,3040000.0]}],                        {\"template\":{\"data\":{\"bar\":[{\"error_x\":{\"color\":\"#2a3f5f\"},\"error_y\":{\"color\":\"#2a3f5f\"},\"marker\":{\"line\":{\"color\":\"#E5ECF6\",\"width\":0.5},\"pattern\":{\"fillmode\":\"overlay\",\"size\":10,\"solidity\":0.2}},\"type\":\"bar\"}],\"barpolar\":[{\"marker\":{\"line\":{\"color\":\"#E5ECF6\",\"width\":0.5},\"pattern\":{\"fillmode\":\"overlay\",\"size\":10,\"solidity\":0.2}},\"type\":\"barpolar\"}],\"carpet\":[{\"aaxis\":{\"endlinecolor\":\"#2a3f5f\",\"gridcolor\":\"white\",\"linecolor\":\"white\",\"minorgridcolor\":\"white\",\"startlinecolor\":\"#2a3f5f\"},\"baxis\":{\"endlinecolor\":\"#2a3f5f\",\"gridcolor\":\"white\",\"linecolor\":\"white\",\"minorgridcolor\":\"white\",\"startlinecolor\":\"#2a3f5f\"},\"type\":\"carpet\"}],\"choropleth\":[{\"colorbar\":{\"outlinewidth\":0,\"ticks\":\"\"},\"type\":\"choropleth\"}],\"contour\":[{\"colorbar\":{\"outlinewidth\":0,\"ticks\":\"\"},\"colorscale\":[[0.0,\"#0d0887\"],[0.1111111111111111,\"#46039f\"],[0.2222222222222222,\"#7201a8\"],[0.3333333333333333,\"#9c179e\"],[0.4444444444444444,\"#bd3786\"],[0.5555555555555556,\"#d8576b\"],[0.6666666666666666,\"#ed7953\"],[0.7777777777777778,\"#fb9f3a\"],[0.8888888888888888,\"#fdca26\"],[1.0,\"#f0f921\"]],\"type\":\"contour\"}],\"contourcarpet\":[{\"colorbar\":{\"outlinewidth\":0,\"ticks\":\"\"},\"type\":\"contourcarpet\"}],\"heatmap\":[{\"colorbar\":{\"outlinewidth\":0,\"ticks\":\"\"},\"colorscale\":[[0.0,\"#0d0887\"],[0.1111111111111111,\"#46039f\"],[0.2222222222222222,\"#7201a8\"],[0.3333333333333333,\"#9c179e\"],[0.4444444444444444,\"#bd3786\"],[0.5555555555555556,\"#d8576b\"],[0.6666666666666666,\"#ed7953\"],[0.7777777777777778,\"#fb9f3a\"],[0.8888888888888888,\"#fdca26\"],[1.0,\"#f0f921\"]],\"type\":\"heatmap\"}],\"heatmapgl\":[{\"colorbar\":{\"outlinewidth\":0,\"ticks\":\"\"},\"colorscale\":[[0.0,\"#0d0887\"],[0.1111111111111111,\"#46039f\"],[0.2222222222222222,\"#7201a8\"],[0.3333333333333333,\"#9c179e\"],[0.4444444444444444,\"#bd3786\"],[0.5555555555555556,\"#d8576b\"],[0.6666666666666666,\"#ed7953\"],[0.7777777777777778,\"#fb9f3a\"],[0.8888888888888888,\"#fdca26\"],[1.0,\"#f0f921\"]],\"type\":\"heatmapgl\"}],\"histogram\":[{\"marker\":{\"pattern\":{\"fillmode\":\"overlay\",\"size\":10,\"solidity\":0.2}},\"type\":\"histogram\"}],\"histogram2d\":[{\"colorbar\":{\"outlinewidth\":0,\"ticks\":\"\"},\"colorscale\":[[0.0,\"#0d0887\"],[0.1111111111111111,\"#46039f\"],[0.2222222222222222,\"#7201a8\"],[0.3333333333333333,\"#9c179e\"],[0.4444444444444444,\"#bd3786\"],[0.5555555555555556,\"#d8576b\"],[0.6666666666666666,\"#ed7953\"],[0.7777777777777778,\"#fb9f3a\"],[0.8888888888888888,\"#fdca26\"],[1.0,\"#f0f921\"]],\"type\":\"histogram2d\"}],\"histogram2dcontour\":[{\"colorbar\":{\"outlinewidth\":0,\"ticks\":\"\"},\"colorscale\":[[0.0,\"#0d0887\"],[0.1111111111111111,\"#46039f\"],[0.2222222222222222,\"#7201a8\"],[0.3333333333333333,\"#9c179e\"],[0.4444444444444444,\"#bd3786\"],[0.5555555555555556,\"#d8576b\"],[0.6666666666666666,\"#ed7953\"],[0.7777777777777778,\"#fb9f3a\"],[0.8888888888888888,\"#fdca26\"],[1.0,\"#f0f921\"]],\"type\":\"histogram2dcontour\"}],\"mesh3d\":[{\"colorbar\":{\"outlinewidth\":0,\"ticks\":\"\"},\"type\":\"mesh3d\"}],\"parcoords\":[{\"line\":{\"colorbar\":{\"outlinewidth\":0,\"ticks\":\"\"}},\"type\":\"parcoords\"}],\"pie\":[{\"automargin\":true,\"type\":\"pie\"}],\"scatter\":[{\"marker\":{\"colorbar\":{\"outlinewidth\":0,\"ticks\":\"\"}},\"type\":\"scatter\"}],\"scatter3d\":[{\"line\":{\"colorbar\":{\"outlinewidth\":0,\"ticks\":\"\"}},\"marker\":{\"colorbar\":{\"outlinewidth\":0,\"ticks\":\"\"}},\"type\":\"scatter3d\"}],\"scattercarpet\":[{\"marker\":{\"colorbar\":{\"outlinewidth\":0,\"ticks\":\"\"}},\"type\":\"scattercarpet\"}],\"scattergeo\":[{\"marker\":{\"colorbar\":{\"outlinewidth\":0,\"ticks\":\"\"}},\"type\":\"scattergeo\"}],\"scattergl\":[{\"marker\":{\"colorbar\":{\"outlinewidth\":0,\"ticks\":\"\"}},\"type\":\"scattergl\"}],\"scattermapbox\":[{\"marker\":{\"colorbar\":{\"outlinewidth\":0,\"ticks\":\"\"}},\"type\":\"scattermapbox\"}],\"scatterpolar\":[{\"marker\":{\"colorbar\":{\"outlinewidth\":0,\"ticks\":\"\"}},\"type\":\"scatterpolar\"}],\"scatterpolargl\":[{\"marker\":{\"colorbar\":{\"outlinewidth\":0,\"ticks\":\"\"}},\"type\":\"scatterpolargl\"}],\"scatterternary\":[{\"marker\":{\"colorbar\":{\"outlinewidth\":0,\"ticks\":\"\"}},\"type\":\"scatterternary\"}],\"surface\":[{\"colorbar\":{\"outlinewidth\":0,\"ticks\":\"\"},\"colorscale\":[[0.0,\"#0d0887\"],[0.1111111111111111,\"#46039f\"],[0.2222222222222222,\"#7201a8\"],[0.3333333333333333,\"#9c179e\"],[0.4444444444444444,\"#bd3786\"],[0.5555555555555556,\"#d8576b\"],[0.6666666666666666,\"#ed7953\"],[0.7777777777777778,\"#fb9f3a\"],[0.8888888888888888,\"#fdca26\"],[1.0,\"#f0f921\"]],\"type\":\"surface\"}],\"table\":[{\"cells\":{\"fill\":{\"color\":\"#EBF0F8\"},\"line\":{\"color\":\"white\"}},\"header\":{\"fill\":{\"color\":\"#C8D4E3\"},\"line\":{\"color\":\"white\"}},\"type\":\"table\"}]},\"layout\":{\"annotationdefaults\":{\"arrowcolor\":\"#2a3f5f\",\"arrowhead\":0,\"arrowwidth\":1},\"autotypenumbers\":\"strict\",\"coloraxis\":{\"colorbar\":{\"outlinewidth\":0,\"ticks\":\"\"}},\"colorscale\":{\"diverging\":[[0,\"#8e0152\"],[0.1,\"#c51b7d\"],[0.2,\"#de77ae\"],[0.3,\"#f1b6da\"],[0.4,\"#fde0ef\"],[0.5,\"#f7f7f7\"],[0.6,\"#e6f5d0\"],[0.7,\"#b8e186\"],[0.8,\"#7fbc41\"],[0.9,\"#4d9221\"],[1,\"#276419\"]],\"sequential\":[[0.0,\"#0d0887\"],[0.1111111111111111,\"#46039f\"],[0.2222222222222222,\"#7201a8\"],[0.3333333333333333,\"#9c179e\"],[0.4444444444444444,\"#bd3786\"],[0.5555555555555556,\"#d8576b\"],[0.6666666666666666,\"#ed7953\"],[0.7777777777777778,\"#fb9f3a\"],[0.8888888888888888,\"#fdca26\"],[1.0,\"#f0f921\"]],\"sequentialminus\":[[0.0,\"#0d0887\"],[0.1111111111111111,\"#46039f\"],[0.2222222222222222,\"#7201a8\"],[0.3333333333333333,\"#9c179e\"],[0.4444444444444444,\"#bd3786\"],[0.5555555555555556,\"#d8576b\"],[0.6666666666666666,\"#ed7953\"],[0.7777777777777778,\"#fb9f3a\"],[0.8888888888888888,\"#fdca26\"],[1.0,\"#f0f921\"]]},\"colorway\":[\"#636efa\",\"#EF553B\",\"#00cc96\",\"#ab63fa\",\"#FFA15A\",\"#19d3f3\",\"#FF6692\",\"#B6E880\",\"#FF97FF\",\"#FECB52\"],\"font\":{\"color\":\"#2a3f5f\"},\"geo\":{\"bgcolor\":\"white\",\"lakecolor\":\"white\",\"landcolor\":\"#E5ECF6\",\"showlakes\":true,\"showland\":true,\"subunitcolor\":\"white\"},\"hoverlabel\":{\"align\":\"left\"},\"hovermode\":\"closest\",\"mapbox\":{\"style\":\"light\"},\"paper_bgcolor\":\"white\",\"plot_bgcolor\":\"#E5ECF6\",\"polar\":{\"angularaxis\":{\"gridcolor\":\"white\",\"linecolor\":\"white\",\"ticks\":\"\"},\"bgcolor\":\"#E5ECF6\",\"radialaxis\":{\"gridcolor\":\"white\",\"linecolor\":\"white\",\"ticks\":\"\"}},\"scene\":{\"xaxis\":{\"backgroundcolor\":\"#E5ECF6\",\"gridcolor\":\"white\",\"gridwidth\":2,\"linecolor\":\"white\",\"showbackground\":true,\"ticks\":\"\",\"zerolinecolor\":\"white\"},\"yaxis\":{\"backgroundcolor\":\"#E5ECF6\",\"gridcolor\":\"white\",\"gridwidth\":2,\"linecolor\":\"white\",\"showbackground\":true,\"ticks\":\"\",\"zerolinecolor\":\"white\"},\"zaxis\":{\"backgroundcolor\":\"#E5ECF6\",\"gridcolor\":\"white\",\"gridwidth\":2,\"linecolor\":\"white\",\"showbackground\":true,\"ticks\":\"\",\"zerolinecolor\":\"white\"}},\"shapedefaults\":{\"line\":{\"color\":\"#2a3f5f\"}},\"ternary\":{\"aaxis\":{\"gridcolor\":\"white\",\"linecolor\":\"white\",\"ticks\":\"\"},\"baxis\":{\"gridcolor\":\"white\",\"linecolor\":\"white\",\"ticks\":\"\"},\"bgcolor\":\"#E5ECF6\",\"caxis\":{\"gridcolor\":\"white\",\"linecolor\":\"white\",\"ticks\":\"\"}},\"title\":{\"x\":0.05},\"xaxis\":{\"automargin\":true,\"gridcolor\":\"white\",\"linecolor\":\"white\",\"ticks\":\"\",\"title\":{\"standoff\":15},\"zerolinecolor\":\"white\",\"zerolinewidth\":2},\"yaxis\":{\"automargin\":true,\"gridcolor\":\"white\",\"linecolor\":\"white\",\"ticks\":\"\",\"title\":{\"standoff\":15},\"zerolinecolor\":\"white\",\"zerolinewidth\":2}}}},                        {\"responsive\": true}                    ).then(function(){\n",
       "                            \n",
       "var gd = document.getElementById('473de4aa-45f8-4ae8-895a-6d6fe932fbd5');\n",
       "var x = new MutationObserver(function (mutations, observer) {{\n",
       "        var display = window.getComputedStyle(gd).display;\n",
       "        if (!display || display === 'none') {{\n",
       "            console.log([gd, 'removed!']);\n",
       "            Plotly.purge(gd);\n",
       "            observer.disconnect();\n",
       "        }}\n",
       "}});\n",
       "\n",
       "// Listen for the removal of the full notebook cells\n",
       "var notebookContainer = gd.closest('#notebook-container');\n",
       "if (notebookContainer) {{\n",
       "    x.observe(notebookContainer, {childList: true});\n",
       "}}\n",
       "\n",
       "// Listen for the clearing of the current output cell\n",
       "var outputEl = gd.closest('.output');\n",
       "if (outputEl) {{\n",
       "    x.observe(outputEl, {childList: true});\n",
       "}}\n",
       "\n",
       "                        })                };                            </script>        </div>\n",
       "</body>\n",
       "</html>"
      ]
     },
     "metadata": {},
     "output_type": "display_data"
    }
   ],
   "source": [
    "data = pd.concat([clean_waste_18_20, clean_waste_03_17]).sort_values(by=\"year\")\n",
    "overall = data[(data[\"waste_type\"] == \"Overall\") | (data[\"waste_type\"] == \"Total\")]\n",
    "\n",
    "\n",
    "fig = go.Figure()\n",
    "\n",
    "fig.add_trace(\n",
    "    go.Bar(\n",
    "        x=overall[\"year\"],\n",
    "        y=overall[\"total_waste_generated_tonne\"],\n",
    "        name=\"Waste Generated\",\n",
    "    )\n",
    ")\n",
    "\n",
    "fig.add_trace(\n",
    "    go.Bar(\n",
    "        x=overall[\"year\"],\n",
    "        y=overall[\"total_waste_recycled_tonne\"],\n",
    "        name=\"Waste Recycled\",\n",
    "    )\n",
    ")\n",
    "\n",
    "fig.show()\n"
   ]
  },
  {
   "cell_type": "code",
   "execution_count": 9,
   "metadata": {
    "allow_embed": "code_output",
    "cell_id": "00012-79d40154-15cc-404b-8cde-b3afc1cc473a",
    "deepnote_cell_type": "code",
    "deepnote_to_be_reexecuted": false,
    "execution_millis": 17,
    "execution_start": 1629195002887,
    "source_hash": "99e6a28",
    "tags": []
   },
   "outputs": [
    {
     "data": {
      "text/plain": [
       "Glass                                      18\n",
       "Paper/Cardboard                            18\n",
       "Textile/Leather                            18\n",
       "Plastics                                   17\n",
       "Total                                      15\n",
       "Scrap Tyres                                13\n",
       "Used Slag                                  13\n",
       "Others (stones, ceramics & rubber etc)     12\n",
       "Horticultural Waste                        11\n",
       "Food waste                                 11\n",
       "Non-ferrous Metals                         11\n",
       "Sludge                                     11\n",
       "Construction Debris                        11\n",
       "Wood/Timber                                11\n",
       "Ferrous Metal                               9\n",
       "Wood                                        7\n",
       "Food                                        7\n",
       "Scrap tyres                                 5\n",
       "Ferrous metal                               5\n",
       "Ash & Sludge                                5\n",
       "Used slag                                   5\n",
       "Horticultural waste                         4\n",
       "Ferrous Metals                              4\n",
       "Non-ferrous metal                           4\n",
       "Overall                                     3\n",
       "Horticultural                               3\n",
       "C&D                                         3\n",
       "Others (stones, ceramic, rubber, ect)       2\n",
       "Non-Ferrous Metal                           2\n",
       "Construction& Demolition                    2\n",
       "Ash and sludge                              1\n",
       "Ash & sludge                                1\n",
       "Construction & Demolition                   1\n",
       "Others (stones, ceramic, rubber, etc.)      1\n",
       "Plastic                                     1\n",
       "Non-ferrous metals                          1\n",
       "Others (stones, ceramics & rubber etc.)     1\n",
       "Others (stones, ceramics, etc.)             1\n",
       "Others                                      1\n",
       "Construction debris                         1\n",
       "Name: waste_type, dtype: int64"
      ]
     },
     "execution_count": 9,
     "metadata": {},
     "output_type": "execute_result"
    }
   ],
   "source": [
    "data['waste_type'].value_counts()"
   ]
  },
  {
   "cell_type": "code",
   "execution_count": 10,
   "metadata": {
    "allow_embed": "code_output",
    "cell_id": "00007-b8c7952b-6a3a-42ec-a092-229f292203c0",
    "collapsed": true,
    "dc": {
     "key": "4"
    },
    "deepnote_cell_type": "code",
    "deepnote_to_be_reexecuted": false,
    "execution_millis": 3,
    "execution_start": 1629195002904,
    "source_hash": "a8fda9bc",
    "trusted": true
   },
   "outputs": [],
   "source": [
    "data[\"waste_type\"] = data[\"waste_type\"].str.replace(\n",
    "    \"Non-ferrous metal\", \"Non-Ferrous Metal\"\n",
    "    )\n",
    "data[\"waste_type\"] = data[\"waste_type\"].str.replace(\n",
    "    \"Non-ferrous metals\", \"Non-Ferrous Metal\"\n",
    "    )\n",
    "data[\"waste_type\"] = data[\"waste_type\"].str.replace(\n",
    "    \"Non-Ferrous Metals\", \"Non-Ferrous Metal\"\n",
    "    )\n",
    "data[\"waste_type\"] = data[\"waste_type\"].str.replace(\n",
    "    \"Plastics\", \"Plastic\"\n",
    "    )\n",
    "data[\"waste_type\"] = data[\"waste_type\"].str.replace(\n",
    "    \"Ferrous metal\", \"Ferrous Metal\"\n",
    "    )\n",
    "data[\"waste_type\"] = data[\"waste_type\"].str.replace(\n",
    "    \"Paper/Cardboard\", \"Paper\"\n",
    "    )\n"
   ]
  },
  {
   "cell_type": "code",
   "execution_count": 11,
   "metadata": {
    "allow_embed": "code_output",
    "cell_id": "00008-2ea10317-a57f-420a-820f-6372cbbf4e74",
    "dc": {
     "key": "4"
    },
    "deepnote_cell_type": "code",
    "deepnote_to_be_reexecuted": false,
    "execution_millis": 67,
    "execution_start": 1629195002911,
    "source_hash": "f482b148",
    "trusted": true
   },
   "outputs": [
    {
     "data": {
      "application/vnd.deepnote.dataframe.v2+json": {
       "column_count": 8,
       "columns": [
        {
         "dtype": "object",
         "name": "waste_type",
         "stats": {
          "categories": [
           {
            "count": 2,
            "name": "Plastic"
           },
           {
            "count": 2,
            "name": "Paper"
           },
           {
            "count": 1,
            "name": "Glass"
           }
          ],
          "nan_count": 0,
          "unique_count": 3
         }
        },
        {
         "dtype": "int64",
         "name": "total_waste_generated_tonne",
         "stats": {
          "histogram": [
           {
            "bin_end": 172160,
            "bin_start": 65500,
            "count": 1
           },
           {
            "bin_end": 278820,
            "bin_start": 172160,
            "count": 0
           },
           {
            "bin_end": 385480,
            "bin_start": 278820,
            "count": 0
           },
           {
            "bin_end": 492140,
            "bin_start": 385480,
            "count": 0
           },
           {
            "bin_end": 598800,
            "bin_start": 492140,
            "count": 1
           },
           {
            "bin_end": 705460,
            "bin_start": 598800,
            "count": 1
           },
           {
            "bin_end": 812120,
            "bin_start": 705460,
            "count": 0
           },
           {
            "bin_end": 918780,
            "bin_start": 812120,
            "count": 0
           },
           {
            "bin_end": 1025440,
            "bin_start": 918780,
            "count": 0
           },
           {
            "bin_end": 1132100,
            "bin_start": 1025440,
            "count": 2
           }
          ],
          "max": "1132100",
          "min": "65500",
          "nan_count": 0,
          "unique_count": 5
         }
        },
        {
         "dtype": "float64",
         "name": "total_waste_recycled_tonne",
         "stats": {
          "histogram": [
           {
            "bin_end": 57570,
            "bin_start": 6200,
            "count": 2
           },
           {
            "bin_end": 108940,
            "bin_start": 57570,
            "count": 1
           },
           {
            "bin_end": 160310,
            "bin_start": 108940,
            "count": 0
           },
           {
            "bin_end": 211680,
            "bin_start": 160310,
            "count": 0
           },
           {
            "bin_end": 263050,
            "bin_start": 211680,
            "count": 0
           },
           {
            "bin_end": 314420,
            "bin_start": 263050,
            "count": 0
           },
           {
            "bin_end": 365790,
            "bin_start": 314420,
            "count": 0
           },
           {
            "bin_end": 417160,
            "bin_start": 365790,
            "count": 0
           },
           {
            "bin_end": 468530,
            "bin_start": 417160,
            "count": 1
           },
           {
            "bin_end": 519900,
            "bin_start": 468530,
            "count": 1
           }
          ],
          "max": "519900.0",
          "min": "6200.0",
          "nan_count": 0,
          "unique_count": 5
         }
        },
        {
         "dtype": "int64",
         "name": "year",
         "stats": {
          "histogram": [
           {
            "bin_end": 2003.1,
            "bin_start": 2003,
            "count": 3
           },
           {
            "bin_end": 2003.2,
            "bin_start": 2003.1,
            "count": 0
           },
           {
            "bin_end": 2003.3,
            "bin_start": 2003.2,
            "count": 0
           },
           {
            "bin_end": 2003.4,
            "bin_start": 2003.3,
            "count": 0
           },
           {
            "bin_end": 2003.5,
            "bin_start": 2003.4,
            "count": 0
           },
           {
            "bin_end": 2003.6,
            "bin_start": 2003.5,
            "count": 0
           },
           {
            "bin_end": 2003.7,
            "bin_start": 2003.6,
            "count": 0
           },
           {
            "bin_end": 2003.8,
            "bin_start": 2003.7,
            "count": 0
           },
           {
            "bin_end": 2003.9,
            "bin_start": 2003.8,
            "count": 0
           },
           {
            "bin_end": 2004,
            "bin_start": 2003.9,
            "count": 2
           }
          ],
          "max": "2004",
          "min": "2003",
          "nan_count": 0,
          "unique_count": 2
         }
        },
        {
         "dtype": "float64",
         "name": "recycling_rate",
         "stats": {
          "histogram": [
           {
            "bin_end": 0.10900000000000001,
            "bin_start": 0.07,
            "count": 2
           },
           {
            "bin_end": 0.14800000000000002,
            "bin_start": 0.10900000000000001,
            "count": 1
           },
           {
            "bin_end": 0.187,
            "bin_start": 0.14800000000000002,
            "count": 0
           },
           {
            "bin_end": 0.226,
            "bin_start": 0.187,
            "count": 0
           },
           {
            "bin_end": 0.265,
            "bin_start": 0.226,
            "count": 0
           },
           {
            "bin_end": 0.304,
            "bin_start": 0.265,
            "count": 0
           },
           {
            "bin_end": 0.343,
            "bin_start": 0.304,
            "count": 0
           },
           {
            "bin_end": 0.382,
            "bin_start": 0.343,
            "count": 0
           },
           {
            "bin_end": 0.421,
            "bin_start": 0.382,
            "count": 0
           },
           {
            "bin_end": 0.46,
            "bin_start": 0.421,
            "count": 2
           }
          ],
          "max": "0.46",
          "min": "0.07",
          "nan_count": 0,
          "unique_count": 5
         }
        },
        {
         "dtype": "object",
         "name": "material",
         "stats": {
          "categories": [
           {
            "count": 2,
            "name": "Plastic"
           },
           {
            "count": 2,
            "name": "Paper"
           },
           {
            "count": 1,
            "name": "Glass"
           }
          ],
          "nan_count": 0,
          "unique_count": 3
         }
        },
        {
         "dtype": "int64",
         "name": "energy_saved",
         "stats": {
          "histogram": [
           {
            "bin_end": 615.2,
            "bin_start": 42,
            "count": 1
           },
           {
            "bin_end": 1188.4,
            "bin_start": 615.2,
            "count": 0
           },
           {
            "bin_end": 1761.6000000000001,
            "bin_start": 1188.4,
            "count": 0
           },
           {
            "bin_end": 2334.8,
            "bin_start": 1761.6000000000001,
            "count": 0
           },
           {
            "bin_end": 2908,
            "bin_start": 2334.8,
            "count": 0
           },
           {
            "bin_end": 3481.2000000000003,
            "bin_start": 2908,
            "count": 0
           },
           {
            "bin_end": 4054.4000000000005,
            "bin_start": 3481.2000000000003,
            "count": 0
           },
           {
            "bin_end": 4627.6,
            "bin_start": 4054.4000000000005,
            "count": 2
           },
           {
            "bin_end": 5200.8,
            "bin_start": 4627.6,
            "count": 0
           },
           {
            "bin_end": 5774,
            "bin_start": 5200.8,
            "count": 2
           }
          ],
          "max": "5774",
          "min": "42",
          "nan_count": 0,
          "unique_count": 3
         }
        },
        {
         "dtype": "object",
         "name": "crude_oil_saved",
         "stats": {
          "categories": [
           {
            "count": 2,
            "name": "16 barrels"
           },
           {
            "count": 2,
            "name": "11 barrels"
           },
           {
            "count": 1,
            "name": "0.12 barrels"
           }
          ],
          "nan_count": 0,
          "unique_count": 3
         }
        },
        {
         "dtype": "int64",
         "name": "_deepnote_index_column"
        }
       ],
       "row_count": 5,
       "rows_bottom": null,
       "rows_top": [
        {
         "_deepnote_index_column": 2,
         "crude_oil_saved": "0.12 barrels",
         "energy_saved": 42,
         "material": "Glass",
         "recycling_rate": 0.09,
         "total_waste_generated_tonne": 65500,
         "total_waste_recycled_tonne": 6200,
         "waste_type": "Glass",
         "year": 2003
        },
        {
         "_deepnote_index_column": 10,
         "crude_oil_saved": "16 barrels",
         "energy_saved": 5774,
         "material": "Plastic",
         "recycling_rate": 0.07,
         "total_waste_generated_tonne": 579900,
         "total_waste_recycled_tonne": 39100,
         "waste_type": "Plastic",
         "year": 2003
        },
        {
         "_deepnote_index_column": 11,
         "crude_oil_saved": "11 barrels",
         "energy_saved": 4100,
         "material": "Paper",
         "recycling_rate": 0.43,
         "total_waste_generated_tonne": 1084700,
         "total_waste_recycled_tonne": 466200,
         "waste_type": "Paper",
         "year": 2003
        },
        {
         "_deepnote_index_column": 25,
         "crude_oil_saved": "16 barrels",
         "energy_saved": 5774,
         "material": "Plastic",
         "recycling_rate": 0.11,
         "total_waste_generated_tonne": 683100,
         "total_waste_recycled_tonne": 74100,
         "waste_type": "Plastic",
         "year": 2004
        },
        {
         "_deepnote_index_column": 26,
         "crude_oil_saved": "11 barrels",
         "energy_saved": 4100,
         "material": "Paper",
         "recycling_rate": 0.46,
         "total_waste_generated_tonne": 1132100,
         "total_waste_recycled_tonne": 519900,
         "waste_type": "Paper",
         "year": 2004
        }
       ]
      },
      "text/html": [
       "<div>\n",
       "<style scoped>\n",
       "    .dataframe tbody tr th:only-of-type {\n",
       "        vertical-align: middle;\n",
       "    }\n",
       "\n",
       "    .dataframe tbody tr th {\n",
       "        vertical-align: top;\n",
       "    }\n",
       "\n",
       "    .dataframe thead th {\n",
       "        text-align: right;\n",
       "    }\n",
       "</style>\n",
       "<table border=\"1\" class=\"dataframe\">\n",
       "  <thead>\n",
       "    <tr style=\"text-align: right;\">\n",
       "      <th></th>\n",
       "      <th>waste_type</th>\n",
       "      <th>total_waste_generated_tonne</th>\n",
       "      <th>total_waste_recycled_tonne</th>\n",
       "      <th>year</th>\n",
       "      <th>recycling_rate</th>\n",
       "      <th>material</th>\n",
       "      <th>energy_saved</th>\n",
       "      <th>crude_oil_saved</th>\n",
       "    </tr>\n",
       "  </thead>\n",
       "  <tbody>\n",
       "    <tr>\n",
       "      <th>2</th>\n",
       "      <td>Glass</td>\n",
       "      <td>65500</td>\n",
       "      <td>6200.0</td>\n",
       "      <td>2003</td>\n",
       "      <td>0.09</td>\n",
       "      <td>Glass</td>\n",
       "      <td>42</td>\n",
       "      <td>0.12 barrels</td>\n",
       "    </tr>\n",
       "    <tr>\n",
       "      <th>10</th>\n",
       "      <td>Plastic</td>\n",
       "      <td>579900</td>\n",
       "      <td>39100.0</td>\n",
       "      <td>2003</td>\n",
       "      <td>0.07</td>\n",
       "      <td>Plastic</td>\n",
       "      <td>5774</td>\n",
       "      <td>16 barrels</td>\n",
       "    </tr>\n",
       "    <tr>\n",
       "      <th>11</th>\n",
       "      <td>Paper</td>\n",
       "      <td>1084700</td>\n",
       "      <td>466200.0</td>\n",
       "      <td>2003</td>\n",
       "      <td>0.43</td>\n",
       "      <td>Paper</td>\n",
       "      <td>4100</td>\n",
       "      <td>11 barrels</td>\n",
       "    </tr>\n",
       "    <tr>\n",
       "      <th>25</th>\n",
       "      <td>Plastic</td>\n",
       "      <td>683100</td>\n",
       "      <td>74100.0</td>\n",
       "      <td>2004</td>\n",
       "      <td>0.11</td>\n",
       "      <td>Plastic</td>\n",
       "      <td>5774</td>\n",
       "      <td>16 barrels</td>\n",
       "    </tr>\n",
       "    <tr>\n",
       "      <th>26</th>\n",
       "      <td>Paper</td>\n",
       "      <td>1132100</td>\n",
       "      <td>519900.0</td>\n",
       "      <td>2004</td>\n",
       "      <td>0.46</td>\n",
       "      <td>Paper</td>\n",
       "      <td>4100</td>\n",
       "      <td>11 barrels</td>\n",
       "    </tr>\n",
       "  </tbody>\n",
       "</table>\n",
       "</div>"
      ],
      "text/plain": [
       "   waste_type  total_waste_generated_tonne  total_waste_recycled_tonne  year  \\\n",
       "2       Glass                        65500                      6200.0  2003   \n",
       "10    Plastic                       579900                     39100.0  2003   \n",
       "11      Paper                      1084700                    466200.0  2003   \n",
       "25    Plastic                       683100                     74100.0  2004   \n",
       "26      Paper                      1132100                    519900.0  2004   \n",
       "\n",
       "    recycling_rate material  energy_saved crude_oil_saved  \n",
       "2             0.09    Glass            42    0.12 barrels  \n",
       "10            0.07  Plastic          5774      16 barrels  \n",
       "11            0.43    Paper          4100      11 barrels  \n",
       "25            0.11  Plastic          5774      16 barrels  \n",
       "26            0.46    Paper          4100      11 barrels  "
      ]
     },
     "execution_count": 11,
     "metadata": {},
     "output_type": "execute_result"
    }
   ],
   "source": [
    "total_data = data.merge(\n",
    "    clean_energy_saved, how=\"left\", left_on=\"waste_type\", right_on=\"material\"\n",
    ").dropna()\n",
    "\n",
    "total_data[\"energy_saved\"] = total_data.loc[:, \"energy_saved\"].str.replace(\"kWh\", \"\")\n",
    "\n",
    "total_data[\"energy_saved\"] = (\n",
    "    total_data.loc[:, \"energy_saved\"].str.replace(\"Kwh\", \"\").astype(int)\n",
    ")\n",
    "\n",
    "total_data.head()\n"
   ]
  },
  {
   "cell_type": "code",
   "execution_count": 12,
   "metadata": {
    "allow_embed": "code_output",
    "cell_id": "00009-4ef6b9a0-48e2-43eb-9530-e05070e84dbf",
    "dc": {
     "key": "4"
    },
    "deepnote_cell_type": "code",
    "deepnote_to_be_reexecuted": false,
    "execution_millis": 16,
    "execution_start": 1629195003022,
    "source_hash": "9ecff6d",
    "trusted": true
   },
   "outputs": [
    {
     "data": {
      "application/vnd.deepnote.dataframe.v2+json": {
       "column_count": 9,
       "columns": [
        {
         "dtype": "object",
         "name": "waste_type",
         "stats": {
          "categories": [
           {
            "count": 2,
            "name": "Plastic"
           },
           {
            "count": 2,
            "name": "Paper"
           },
           {
            "count": 1,
            "name": "Glass"
           }
          ],
          "nan_count": 0,
          "unique_count": 3
         }
        },
        {
         "dtype": "int64",
         "name": "total_waste_generated_tonne",
         "stats": {
          "histogram": [
           {
            "bin_end": 172160,
            "bin_start": 65500,
            "count": 1
           },
           {
            "bin_end": 278820,
            "bin_start": 172160,
            "count": 0
           },
           {
            "bin_end": 385480,
            "bin_start": 278820,
            "count": 0
           },
           {
            "bin_end": 492140,
            "bin_start": 385480,
            "count": 0
           },
           {
            "bin_end": 598800,
            "bin_start": 492140,
            "count": 1
           },
           {
            "bin_end": 705460,
            "bin_start": 598800,
            "count": 1
           },
           {
            "bin_end": 812120,
            "bin_start": 705460,
            "count": 0
           },
           {
            "bin_end": 918780,
            "bin_start": 812120,
            "count": 0
           },
           {
            "bin_end": 1025440,
            "bin_start": 918780,
            "count": 0
           },
           {
            "bin_end": 1132100,
            "bin_start": 1025440,
            "count": 2
           }
          ],
          "max": "1132100",
          "min": "65500",
          "nan_count": 0,
          "unique_count": 5
         }
        },
        {
         "dtype": "float64",
         "name": "total_waste_recycled_tonne",
         "stats": {
          "histogram": [
           {
            "bin_end": 57570,
            "bin_start": 6200,
            "count": 2
           },
           {
            "bin_end": 108940,
            "bin_start": 57570,
            "count": 1
           },
           {
            "bin_end": 160310,
            "bin_start": 108940,
            "count": 0
           },
           {
            "bin_end": 211680,
            "bin_start": 160310,
            "count": 0
           },
           {
            "bin_end": 263050,
            "bin_start": 211680,
            "count": 0
           },
           {
            "bin_end": 314420,
            "bin_start": 263050,
            "count": 0
           },
           {
            "bin_end": 365790,
            "bin_start": 314420,
            "count": 0
           },
           {
            "bin_end": 417160,
            "bin_start": 365790,
            "count": 0
           },
           {
            "bin_end": 468530,
            "bin_start": 417160,
            "count": 1
           },
           {
            "bin_end": 519900,
            "bin_start": 468530,
            "count": 1
           }
          ],
          "max": "519900.0",
          "min": "6200.0",
          "nan_count": 0,
          "unique_count": 5
         }
        },
        {
         "dtype": "int64",
         "name": "year",
         "stats": {
          "histogram": [
           {
            "bin_end": 2003.1,
            "bin_start": 2003,
            "count": 3
           },
           {
            "bin_end": 2003.2,
            "bin_start": 2003.1,
            "count": 0
           },
           {
            "bin_end": 2003.3,
            "bin_start": 2003.2,
            "count": 0
           },
           {
            "bin_end": 2003.4,
            "bin_start": 2003.3,
            "count": 0
           },
           {
            "bin_end": 2003.5,
            "bin_start": 2003.4,
            "count": 0
           },
           {
            "bin_end": 2003.6,
            "bin_start": 2003.5,
            "count": 0
           },
           {
            "bin_end": 2003.7,
            "bin_start": 2003.6,
            "count": 0
           },
           {
            "bin_end": 2003.8,
            "bin_start": 2003.7,
            "count": 0
           },
           {
            "bin_end": 2003.9,
            "bin_start": 2003.8,
            "count": 0
           },
           {
            "bin_end": 2004,
            "bin_start": 2003.9,
            "count": 2
           }
          ],
          "max": "2004",
          "min": "2003",
          "nan_count": 0,
          "unique_count": 2
         }
        },
        {
         "dtype": "float64",
         "name": "recycling_rate",
         "stats": {
          "histogram": [
           {
            "bin_end": 0.10900000000000001,
            "bin_start": 0.07,
            "count": 2
           },
           {
            "bin_end": 0.14800000000000002,
            "bin_start": 0.10900000000000001,
            "count": 1
           },
           {
            "bin_end": 0.187,
            "bin_start": 0.14800000000000002,
            "count": 0
           },
           {
            "bin_end": 0.226,
            "bin_start": 0.187,
            "count": 0
           },
           {
            "bin_end": 0.265,
            "bin_start": 0.226,
            "count": 0
           },
           {
            "bin_end": 0.304,
            "bin_start": 0.265,
            "count": 0
           },
           {
            "bin_end": 0.343,
            "bin_start": 0.304,
            "count": 0
           },
           {
            "bin_end": 0.382,
            "bin_start": 0.343,
            "count": 0
           },
           {
            "bin_end": 0.421,
            "bin_start": 0.382,
            "count": 0
           },
           {
            "bin_end": 0.46,
            "bin_start": 0.421,
            "count": 2
           }
          ],
          "max": "0.46",
          "min": "0.07",
          "nan_count": 0,
          "unique_count": 5
         }
        },
        {
         "dtype": "object",
         "name": "material",
         "stats": {
          "categories": [
           {
            "count": 2,
            "name": "Plastic"
           },
           {
            "count": 2,
            "name": "Paper"
           },
           {
            "count": 1,
            "name": "Glass"
           }
          ],
          "nan_count": 0,
          "unique_count": 3
         }
        },
        {
         "dtype": "int64",
         "name": "energy_saved",
         "stats": {
          "histogram": [
           {
            "bin_end": 615.2,
            "bin_start": 42,
            "count": 1
           },
           {
            "bin_end": 1188.4,
            "bin_start": 615.2,
            "count": 0
           },
           {
            "bin_end": 1761.6000000000001,
            "bin_start": 1188.4,
            "count": 0
           },
           {
            "bin_end": 2334.8,
            "bin_start": 1761.6000000000001,
            "count": 0
           },
           {
            "bin_end": 2908,
            "bin_start": 2334.8,
            "count": 0
           },
           {
            "bin_end": 3481.2000000000003,
            "bin_start": 2908,
            "count": 0
           },
           {
            "bin_end": 4054.4000000000005,
            "bin_start": 3481.2000000000003,
            "count": 0
           },
           {
            "bin_end": 4627.6,
            "bin_start": 4054.4000000000005,
            "count": 2
           },
           {
            "bin_end": 5200.8,
            "bin_start": 4627.6,
            "count": 0
           },
           {
            "bin_end": 5774,
            "bin_start": 5200.8,
            "count": 2
           }
          ],
          "max": "5774",
          "min": "42",
          "nan_count": 0,
          "unique_count": 3
         }
        },
        {
         "dtype": "object",
         "name": "crude_oil_saved",
         "stats": {
          "categories": [
           {
            "count": 2,
            "name": "16 barrels"
           },
           {
            "count": 2,
            "name": "11 barrels"
           },
           {
            "count": 1,
            "name": "0.12 barrels"
           }
          ],
          "nan_count": 0,
          "unique_count": 3
         }
        },
        {
         "dtype": "float64",
         "name": "total_energy_saved",
         "stats": {
          "histogram": [
           {
            "bin_end": 213393360,
            "bin_start": 260400,
            "count": 1
           },
           {
            "bin_end": 426526320,
            "bin_start": 213393360,
            "count": 1
           },
           {
            "bin_end": 639659280,
            "bin_start": 426526320,
            "count": 1
           },
           {
            "bin_end": 852792240,
            "bin_start": 639659280,
            "count": 0
           },
           {
            "bin_end": 1065925200,
            "bin_start": 852792240,
            "count": 0
           },
           {
            "bin_end": 1279058160,
            "bin_start": 1065925200,
            "count": 0
           },
           {
            "bin_end": 1492191120,
            "bin_start": 1279058160,
            "count": 0
           },
           {
            "bin_end": 1705324080,
            "bin_start": 1492191120,
            "count": 0
           },
           {
            "bin_end": 1918457040,
            "bin_start": 1705324080,
            "count": 1
           },
           {
            "bin_end": 2131590000,
            "bin_start": 1918457040,
            "count": 1
           }
          ],
          "max": "2131590000.0",
          "min": "260400.0",
          "nan_count": 0,
          "unique_count": 5
         }
        },
        {
         "dtype": "int64",
         "name": "_deepnote_index_column"
        }
       ],
       "row_count": 5,
       "rows_bottom": null,
       "rows_top": [
        {
         "_deepnote_index_column": 2,
         "crude_oil_saved": "0.12 barrels",
         "energy_saved": 42,
         "material": "Glass",
         "recycling_rate": 0.09,
         "total_energy_saved": 260400,
         "total_waste_generated_tonne": 65500,
         "total_waste_recycled_tonne": 6200,
         "waste_type": "Glass",
         "year": 2003
        },
        {
         "_deepnote_index_column": 10,
         "crude_oil_saved": "16 barrels",
         "energy_saved": 5774,
         "material": "Plastic",
         "recycling_rate": 0.07,
         "total_energy_saved": 225763400,
         "total_waste_generated_tonne": 579900,
         "total_waste_recycled_tonne": 39100,
         "waste_type": "Plastic",
         "year": 2003
        },
        {
         "_deepnote_index_column": 11,
         "crude_oil_saved": "11 barrels",
         "energy_saved": 4100,
         "material": "Paper",
         "recycling_rate": 0.43,
         "total_energy_saved": 1911420000,
         "total_waste_generated_tonne": 1084700,
         "total_waste_recycled_tonne": 466200,
         "waste_type": "Paper",
         "year": 2003
        },
        {
         "_deepnote_index_column": 25,
         "crude_oil_saved": "16 barrels",
         "energy_saved": 5774,
         "material": "Plastic",
         "recycling_rate": 0.11,
         "total_energy_saved": 427853400,
         "total_waste_generated_tonne": 683100,
         "total_waste_recycled_tonne": 74100,
         "waste_type": "Plastic",
         "year": 2004
        },
        {
         "_deepnote_index_column": 26,
         "crude_oil_saved": "11 barrels",
         "energy_saved": 4100,
         "material": "Paper",
         "recycling_rate": 0.46,
         "total_energy_saved": 2131590000,
         "total_waste_generated_tonne": 1132100,
         "total_waste_recycled_tonne": 519900,
         "waste_type": "Paper",
         "year": 2004
        }
       ]
      },
      "text/html": [
       "<div>\n",
       "<style scoped>\n",
       "    .dataframe tbody tr th:only-of-type {\n",
       "        vertical-align: middle;\n",
       "    }\n",
       "\n",
       "    .dataframe tbody tr th {\n",
       "        vertical-align: top;\n",
       "    }\n",
       "\n",
       "    .dataframe thead th {\n",
       "        text-align: right;\n",
       "    }\n",
       "</style>\n",
       "<table border=\"1\" class=\"dataframe\">\n",
       "  <thead>\n",
       "    <tr style=\"text-align: right;\">\n",
       "      <th></th>\n",
       "      <th>waste_type</th>\n",
       "      <th>total_waste_generated_tonne</th>\n",
       "      <th>total_waste_recycled_tonne</th>\n",
       "      <th>year</th>\n",
       "      <th>recycling_rate</th>\n",
       "      <th>material</th>\n",
       "      <th>energy_saved</th>\n",
       "      <th>crude_oil_saved</th>\n",
       "      <th>total_energy_saved</th>\n",
       "    </tr>\n",
       "  </thead>\n",
       "  <tbody>\n",
       "    <tr>\n",
       "      <th>2</th>\n",
       "      <td>Glass</td>\n",
       "      <td>65500</td>\n",
       "      <td>6200.0</td>\n",
       "      <td>2003</td>\n",
       "      <td>0.09</td>\n",
       "      <td>Glass</td>\n",
       "      <td>42</td>\n",
       "      <td>0.12 barrels</td>\n",
       "      <td>2.604000e+05</td>\n",
       "    </tr>\n",
       "    <tr>\n",
       "      <th>10</th>\n",
       "      <td>Plastic</td>\n",
       "      <td>579900</td>\n",
       "      <td>39100.0</td>\n",
       "      <td>2003</td>\n",
       "      <td>0.07</td>\n",
       "      <td>Plastic</td>\n",
       "      <td>5774</td>\n",
       "      <td>16 barrels</td>\n",
       "      <td>2.257634e+08</td>\n",
       "    </tr>\n",
       "    <tr>\n",
       "      <th>11</th>\n",
       "      <td>Paper</td>\n",
       "      <td>1084700</td>\n",
       "      <td>466200.0</td>\n",
       "      <td>2003</td>\n",
       "      <td>0.43</td>\n",
       "      <td>Paper</td>\n",
       "      <td>4100</td>\n",
       "      <td>11 barrels</td>\n",
       "      <td>1.911420e+09</td>\n",
       "    </tr>\n",
       "    <tr>\n",
       "      <th>25</th>\n",
       "      <td>Plastic</td>\n",
       "      <td>683100</td>\n",
       "      <td>74100.0</td>\n",
       "      <td>2004</td>\n",
       "      <td>0.11</td>\n",
       "      <td>Plastic</td>\n",
       "      <td>5774</td>\n",
       "      <td>16 barrels</td>\n",
       "      <td>4.278534e+08</td>\n",
       "    </tr>\n",
       "    <tr>\n",
       "      <th>26</th>\n",
       "      <td>Paper</td>\n",
       "      <td>1132100</td>\n",
       "      <td>519900.0</td>\n",
       "      <td>2004</td>\n",
       "      <td>0.46</td>\n",
       "      <td>Paper</td>\n",
       "      <td>4100</td>\n",
       "      <td>11 barrels</td>\n",
       "      <td>2.131590e+09</td>\n",
       "    </tr>\n",
       "  </tbody>\n",
       "</table>\n",
       "</div>"
      ],
      "text/plain": [
       "   waste_type  total_waste_generated_tonne  total_waste_recycled_tonne  year  \\\n",
       "2       Glass                        65500                      6200.0  2003   \n",
       "10    Plastic                       579900                     39100.0  2003   \n",
       "11      Paper                      1084700                    466200.0  2003   \n",
       "25    Plastic                       683100                     74100.0  2004   \n",
       "26      Paper                      1132100                    519900.0  2004   \n",
       "\n",
       "    recycling_rate material  energy_saved crude_oil_saved  total_energy_saved  \n",
       "2             0.09    Glass            42    0.12 barrels        2.604000e+05  \n",
       "10            0.07  Plastic          5774      16 barrels        2.257634e+08  \n",
       "11            0.43    Paper          4100      11 barrels        1.911420e+09  \n",
       "25            0.11  Plastic          5774      16 barrels        4.278534e+08  \n",
       "26            0.46    Paper          4100      11 barrels        2.131590e+09  "
      ]
     },
     "execution_count": 12,
     "metadata": {},
     "output_type": "execute_result"
    }
   ],
   "source": [
    "total_data[\"total_energy_saved\"] = (\n",
    "    total_data.loc[:, \"total_waste_recycled_tonne\"] * total_data.loc[:, \"energy_saved\"]\n",
    ")\n",
    "\n",
    "total_data.head()\n"
   ]
  },
  {
   "attachments": {},
   "cell_type": "markdown",
   "metadata": {
    "cell_id": "00021-697ec40e-3360-4713-8771-66b71361550c",
    "deepnote_cell_type": "markdown",
    "tags": []
   },
   "source": [
    "## Visualization"
   ]
  },
  {
   "cell_type": "code",
   "execution_count": 13,
   "metadata": {
    "allow_embed": "code_output",
    "cell_id": "00016-e469c07c-e66b-4d5b-89a8-6b233b42223b",
    "deepnote_cell_type": "code",
    "deepnote_to_be_reexecuted": false,
    "execution_millis": 2803,
    "execution_start": 1629195003030,
    "source_hash": "8480bb4b",
    "tags": []
   },
   "outputs": [
    {
     "data": {
      "text/html": [
       "<style  type=\"text/css\" >\n",
       "#T_8bc18_row0_col0,#T_8bc18_row2_col0{\n",
       "            background-color:  #fbb4ae;\n",
       "            color:  #000000;\n",
       "        }#T_8bc18_row1_col0,#T_8bc18_row4_col0{\n",
       "            background-color:  #f2f2f2;\n",
       "            color:  #000000;\n",
       "        }#T_8bc18_row3_col0{\n",
       "            background-color:  #fed9a6;\n",
       "            color:  #000000;\n",
       "        }</style><table id=\"T_8bc18_\" ><thead>    <tr>        <th class=\"blank level0\" ></th>        <th class=\"col_heading level0 col0\" >recycling_rate</th>    </tr>    <tr>        <th class=\"index_name level0\" >waste_type</th>        <th class=\"blank\" ></th>    </tr></thead><tbody>\n",
       "                <tr>\n",
       "                        <th id=\"T_8bc18_level0_row0\" class=\"row_heading level0 row0\" >Ferrous Metal</th>\n",
       "                        <td id=\"T_8bc18_row0_col0\" class=\"data row0 col0\" >0.900714</td>\n",
       "            </tr>\n",
       "            <tr>\n",
       "                        <th id=\"T_8bc18_level0_row1\" class=\"row_heading level0 row1\" >Glass</th>\n",
       "                        <td id=\"T_8bc18_row1_col0\" class=\"data row1 col0\" >0.166667</td>\n",
       "            </tr>\n",
       "            <tr>\n",
       "                        <th id=\"T_8bc18_level0_row2\" class=\"row_heading level0 row2\" >Non-Ferrous Metal</th>\n",
       "                        <td id=\"T_8bc18_row2_col0\" class=\"data row2 col0\" >0.942857</td>\n",
       "            </tr>\n",
       "            <tr>\n",
       "                        <th id=\"T_8bc18_level0_row3\" class=\"row_heading level0 row3\" >Paper</th>\n",
       "                        <td id=\"T_8bc18_row3_col0\" class=\"data row3 col0\" >0.498333</td>\n",
       "            </tr>\n",
       "            <tr>\n",
       "                        <th id=\"T_8bc18_level0_row4\" class=\"row_heading level0 row4\" >Plastic</th>\n",
       "                        <td id=\"T_8bc18_row4_col0\" class=\"data row4 col0\" >0.086667</td>\n",
       "            </tr>\n",
       "    </tbody></table>"
      ],
      "text/plain": [
       "<pandas.io.formats.style.Styler at 0x7f00b9dd4c90>"
      ]
     },
     "execution_count": 13,
     "metadata": {},
     "output_type": "execute_result"
    }
   ],
   "source": [
    "total_data.groupby(by=[\"waste_type\"]).mean()[\n",
    "    \"recycling_rate\"\n",
    "    ].to_frame().style.\\\n",
    "    background_gradient(cmap=\"Pastel1_r\", subset=[\"recycling_rate\"])"
   ]
  },
  {
   "attachments": {},
   "cell_type": "markdown",
   "metadata": {
    "cell_id": "00023-f4ff0a21-7215-4059-95b7-bb773039cc82",
    "deepnote_cell_type": "markdown",
    "tags": []
   },
   "source": [
    "I wanted to check our final data for outliners and patterns. We found out that there was anomaly at year 2018 and to figure it out we have to check our dataset."
   ]
  },
  {
   "cell_type": "code",
   "execution_count": 14,
   "metadata": {
    "allow_embed": "code_output",
    "cell_id": "00010-fca8a02c-bb4d-4b3d-88e1-c2c29d7d646b",
    "deepnote_cell_type": "code",
    "deepnote_to_be_reexecuted": false,
    "execution_millis": 2101,
    "execution_start": 1629195005826,
    "source_hash": "8aa33b5e",
    "tags": []
   },
   "outputs": [
    {
     "data": {
      "text/html": [
       "<html>\n",
       "<head><meta charset=\"utf-8\" /></head>\n",
       "<body>\n",
       "    <div>            <script src=\"https://cdnjs.cloudflare.com/ajax/libs/mathjax/2.7.5/MathJax.js?config=TeX-AMS-MML_SVG\"></script><script type=\"text/javascript\">if (window.MathJax) {MathJax.Hub.Config({SVG: {font: \"STIX-Web\"}});}</script>                <script type=\"text/javascript\">window.PlotlyConfig = {MathJaxConfig: 'local'};</script>\n",
       "        <script src=\"https://cdn.plot.ly/plotly-2.2.0.min.js\"></script>                <div id=\"2ad7bc44-8828-477e-9a5c-973971d1da6a\" class=\"plotly-graph-div\" style=\"height:525px; width:100%;\"></div>            <script type=\"text/javascript\">                                    window.PLOTLYENV=window.PLOTLYENV || {};                                    if (document.getElementById(\"2ad7bc44-8828-477e-9a5c-973971d1da6a\")) {                    Plotly.newPlot(                        \"2ad7bc44-8828-477e-9a5c-973971d1da6a\",                        [{\"alignmentgroup\":\"True\",\"hovertemplate\":\"year=%{x}<br>total_waste_recycled_tonne=%{y}<extra></extra>\",\"legendgroup\":\"\",\"marker\":{\"color\":\"#636efa\"},\"name\":\"\",\"notched\":false,\"offsetgroup\":\"\",\"orientation\":\"v\",\"quartilemethod\":\"exclusive\",\"showlegend\":false,\"type\":\"box\",\"x\":[2003,2003,2003,2004,2004,2004,2005,2005,2005,2006,2006,2006,2007,2007,2007,2007,2008,2008,2008,2008,2009,2009,2009,2009,2010,2010,2010,2010,2011,2011,2011,2011,2012,2012,2012,2012,2013,2013,2013,2013,2014,2014,2014,2014,2014,2015,2015,2015,2015,2015,2016,2016,2016,2016,2016,2017,2017,2017,2017,2017,2018,2018,2018,2018,2018,2019,2019,2019,2019,2019,2020,2020,2020,2020,2020],\"x0\":\" \",\"xaxis\":\"x\",\"y\":[6200.0,39100.0,466200.0,74100.0,519900.0,4900.0,3800.0,540500.0,86000.0,77800.0,571400.0,6400.0,619000.0,75000.0,668000.0,5800.0,608600.0,61200.0,10000.0,735000.0,574200.0,60300.0,806200.0,15600.0,738200.0,78100.0,1127500.0,19200.0,21400.0,77000.0,765000.0,1171600.0,696700.0,82100.0,1331200.0,19500.0,679400.0,91100.0,1369200.0,14600.0,646500.0,1388900.0,80000.0,15700.0,94700.0,603700.0,57800.0,14600.0,160400.0,1333300.0,607100.0,59500.0,1351500.0,95900.0,14700.0,1371000.0,92200.0,568800.0,12400.0,51800.0,170000.0,41000.0,586000.0,126000.0,12000.0,1270000.0,449000.0,37000.0,124000.0,11000.0,7000.0,73000.0,36000.0,930000.0,432000.0],\"y0\":\" \",\"yaxis\":\"y\"}],                        {\"boxmode\":\"group\",\"legend\":{\"tracegroupgap\":0},\"margin\":{\"t\":60},\"template\":{\"data\":{\"bar\":[{\"error_x\":{\"color\":\"#2a3f5f\"},\"error_y\":{\"color\":\"#2a3f5f\"},\"marker\":{\"line\":{\"color\":\"#E5ECF6\",\"width\":0.5},\"pattern\":{\"fillmode\":\"overlay\",\"size\":10,\"solidity\":0.2}},\"type\":\"bar\"}],\"barpolar\":[{\"marker\":{\"line\":{\"color\":\"#E5ECF6\",\"width\":0.5},\"pattern\":{\"fillmode\":\"overlay\",\"size\":10,\"solidity\":0.2}},\"type\":\"barpolar\"}],\"carpet\":[{\"aaxis\":{\"endlinecolor\":\"#2a3f5f\",\"gridcolor\":\"white\",\"linecolor\":\"white\",\"minorgridcolor\":\"white\",\"startlinecolor\":\"#2a3f5f\"},\"baxis\":{\"endlinecolor\":\"#2a3f5f\",\"gridcolor\":\"white\",\"linecolor\":\"white\",\"minorgridcolor\":\"white\",\"startlinecolor\":\"#2a3f5f\"},\"type\":\"carpet\"}],\"choropleth\":[{\"colorbar\":{\"outlinewidth\":0,\"ticks\":\"\"},\"type\":\"choropleth\"}],\"contour\":[{\"colorbar\":{\"outlinewidth\":0,\"ticks\":\"\"},\"colorscale\":[[0.0,\"#0d0887\"],[0.1111111111111111,\"#46039f\"],[0.2222222222222222,\"#7201a8\"],[0.3333333333333333,\"#9c179e\"],[0.4444444444444444,\"#bd3786\"],[0.5555555555555556,\"#d8576b\"],[0.6666666666666666,\"#ed7953\"],[0.7777777777777778,\"#fb9f3a\"],[0.8888888888888888,\"#fdca26\"],[1.0,\"#f0f921\"]],\"type\":\"contour\"}],\"contourcarpet\":[{\"colorbar\":{\"outlinewidth\":0,\"ticks\":\"\"},\"type\":\"contourcarpet\"}],\"heatmap\":[{\"colorbar\":{\"outlinewidth\":0,\"ticks\":\"\"},\"colorscale\":[[0.0,\"#0d0887\"],[0.1111111111111111,\"#46039f\"],[0.2222222222222222,\"#7201a8\"],[0.3333333333333333,\"#9c179e\"],[0.4444444444444444,\"#bd3786\"],[0.5555555555555556,\"#d8576b\"],[0.6666666666666666,\"#ed7953\"],[0.7777777777777778,\"#fb9f3a\"],[0.8888888888888888,\"#fdca26\"],[1.0,\"#f0f921\"]],\"type\":\"heatmap\"}],\"heatmapgl\":[{\"colorbar\":{\"outlinewidth\":0,\"ticks\":\"\"},\"colorscale\":[[0.0,\"#0d0887\"],[0.1111111111111111,\"#46039f\"],[0.2222222222222222,\"#7201a8\"],[0.3333333333333333,\"#9c179e\"],[0.4444444444444444,\"#bd3786\"],[0.5555555555555556,\"#d8576b\"],[0.6666666666666666,\"#ed7953\"],[0.7777777777777778,\"#fb9f3a\"],[0.8888888888888888,\"#fdca26\"],[1.0,\"#f0f921\"]],\"type\":\"heatmapgl\"}],\"histogram\":[{\"marker\":{\"pattern\":{\"fillmode\":\"overlay\",\"size\":10,\"solidity\":0.2}},\"type\":\"histogram\"}],\"histogram2d\":[{\"colorbar\":{\"outlinewidth\":0,\"ticks\":\"\"},\"colorscale\":[[0.0,\"#0d0887\"],[0.1111111111111111,\"#46039f\"],[0.2222222222222222,\"#7201a8\"],[0.3333333333333333,\"#9c179e\"],[0.4444444444444444,\"#bd3786\"],[0.5555555555555556,\"#d8576b\"],[0.6666666666666666,\"#ed7953\"],[0.7777777777777778,\"#fb9f3a\"],[0.8888888888888888,\"#fdca26\"],[1.0,\"#f0f921\"]],\"type\":\"histogram2d\"}],\"histogram2dcontour\":[{\"colorbar\":{\"outlinewidth\":0,\"ticks\":\"\"},\"colorscale\":[[0.0,\"#0d0887\"],[0.1111111111111111,\"#46039f\"],[0.2222222222222222,\"#7201a8\"],[0.3333333333333333,\"#9c179e\"],[0.4444444444444444,\"#bd3786\"],[0.5555555555555556,\"#d8576b\"],[0.6666666666666666,\"#ed7953\"],[0.7777777777777778,\"#fb9f3a\"],[0.8888888888888888,\"#fdca26\"],[1.0,\"#f0f921\"]],\"type\":\"histogram2dcontour\"}],\"mesh3d\":[{\"colorbar\":{\"outlinewidth\":0,\"ticks\":\"\"},\"type\":\"mesh3d\"}],\"parcoords\":[{\"line\":{\"colorbar\":{\"outlinewidth\":0,\"ticks\":\"\"}},\"type\":\"parcoords\"}],\"pie\":[{\"automargin\":true,\"type\":\"pie\"}],\"scatter\":[{\"marker\":{\"colorbar\":{\"outlinewidth\":0,\"ticks\":\"\"}},\"type\":\"scatter\"}],\"scatter3d\":[{\"line\":{\"colorbar\":{\"outlinewidth\":0,\"ticks\":\"\"}},\"marker\":{\"colorbar\":{\"outlinewidth\":0,\"ticks\":\"\"}},\"type\":\"scatter3d\"}],\"scattercarpet\":[{\"marker\":{\"colorbar\":{\"outlinewidth\":0,\"ticks\":\"\"}},\"type\":\"scattercarpet\"}],\"scattergeo\":[{\"marker\":{\"colorbar\":{\"outlinewidth\":0,\"ticks\":\"\"}},\"type\":\"scattergeo\"}],\"scattergl\":[{\"marker\":{\"colorbar\":{\"outlinewidth\":0,\"ticks\":\"\"}},\"type\":\"scattergl\"}],\"scattermapbox\":[{\"marker\":{\"colorbar\":{\"outlinewidth\":0,\"ticks\":\"\"}},\"type\":\"scattermapbox\"}],\"scatterpolar\":[{\"marker\":{\"colorbar\":{\"outlinewidth\":0,\"ticks\":\"\"}},\"type\":\"scatterpolar\"}],\"scatterpolargl\":[{\"marker\":{\"colorbar\":{\"outlinewidth\":0,\"ticks\":\"\"}},\"type\":\"scatterpolargl\"}],\"scatterternary\":[{\"marker\":{\"colorbar\":{\"outlinewidth\":0,\"ticks\":\"\"}},\"type\":\"scatterternary\"}],\"surface\":[{\"colorbar\":{\"outlinewidth\":0,\"ticks\":\"\"},\"colorscale\":[[0.0,\"#0d0887\"],[0.1111111111111111,\"#46039f\"],[0.2222222222222222,\"#7201a8\"],[0.3333333333333333,\"#9c179e\"],[0.4444444444444444,\"#bd3786\"],[0.5555555555555556,\"#d8576b\"],[0.6666666666666666,\"#ed7953\"],[0.7777777777777778,\"#fb9f3a\"],[0.8888888888888888,\"#fdca26\"],[1.0,\"#f0f921\"]],\"type\":\"surface\"}],\"table\":[{\"cells\":{\"fill\":{\"color\":\"#EBF0F8\"},\"line\":{\"color\":\"white\"}},\"header\":{\"fill\":{\"color\":\"#C8D4E3\"},\"line\":{\"color\":\"white\"}},\"type\":\"table\"}]},\"layout\":{\"annotationdefaults\":{\"arrowcolor\":\"#2a3f5f\",\"arrowhead\":0,\"arrowwidth\":1},\"autotypenumbers\":\"strict\",\"coloraxis\":{\"colorbar\":{\"outlinewidth\":0,\"ticks\":\"\"}},\"colorscale\":{\"diverging\":[[0,\"#8e0152\"],[0.1,\"#c51b7d\"],[0.2,\"#de77ae\"],[0.3,\"#f1b6da\"],[0.4,\"#fde0ef\"],[0.5,\"#f7f7f7\"],[0.6,\"#e6f5d0\"],[0.7,\"#b8e186\"],[0.8,\"#7fbc41\"],[0.9,\"#4d9221\"],[1,\"#276419\"]],\"sequential\":[[0.0,\"#0d0887\"],[0.1111111111111111,\"#46039f\"],[0.2222222222222222,\"#7201a8\"],[0.3333333333333333,\"#9c179e\"],[0.4444444444444444,\"#bd3786\"],[0.5555555555555556,\"#d8576b\"],[0.6666666666666666,\"#ed7953\"],[0.7777777777777778,\"#fb9f3a\"],[0.8888888888888888,\"#fdca26\"],[1.0,\"#f0f921\"]],\"sequentialminus\":[[0.0,\"#0d0887\"],[0.1111111111111111,\"#46039f\"],[0.2222222222222222,\"#7201a8\"],[0.3333333333333333,\"#9c179e\"],[0.4444444444444444,\"#bd3786\"],[0.5555555555555556,\"#d8576b\"],[0.6666666666666666,\"#ed7953\"],[0.7777777777777778,\"#fb9f3a\"],[0.8888888888888888,\"#fdca26\"],[1.0,\"#f0f921\"]]},\"colorway\":[\"#636efa\",\"#EF553B\",\"#00cc96\",\"#ab63fa\",\"#FFA15A\",\"#19d3f3\",\"#FF6692\",\"#B6E880\",\"#FF97FF\",\"#FECB52\"],\"font\":{\"color\":\"#2a3f5f\"},\"geo\":{\"bgcolor\":\"white\",\"lakecolor\":\"white\",\"landcolor\":\"#E5ECF6\",\"showlakes\":true,\"showland\":true,\"subunitcolor\":\"white\"},\"hoverlabel\":{\"align\":\"left\"},\"hovermode\":\"closest\",\"mapbox\":{\"style\":\"light\"},\"paper_bgcolor\":\"white\",\"plot_bgcolor\":\"#E5ECF6\",\"polar\":{\"angularaxis\":{\"gridcolor\":\"white\",\"linecolor\":\"white\",\"ticks\":\"\"},\"bgcolor\":\"#E5ECF6\",\"radialaxis\":{\"gridcolor\":\"white\",\"linecolor\":\"white\",\"ticks\":\"\"}},\"scene\":{\"xaxis\":{\"backgroundcolor\":\"#E5ECF6\",\"gridcolor\":\"white\",\"gridwidth\":2,\"linecolor\":\"white\",\"showbackground\":true,\"ticks\":\"\",\"zerolinecolor\":\"white\"},\"yaxis\":{\"backgroundcolor\":\"#E5ECF6\",\"gridcolor\":\"white\",\"gridwidth\":2,\"linecolor\":\"white\",\"showbackground\":true,\"ticks\":\"\",\"zerolinecolor\":\"white\"},\"zaxis\":{\"backgroundcolor\":\"#E5ECF6\",\"gridcolor\":\"white\",\"gridwidth\":2,\"linecolor\":\"white\",\"showbackground\":true,\"ticks\":\"\",\"zerolinecolor\":\"white\"}},\"shapedefaults\":{\"line\":{\"color\":\"#2a3f5f\"}},\"ternary\":{\"aaxis\":{\"gridcolor\":\"white\",\"linecolor\":\"white\",\"ticks\":\"\"},\"baxis\":{\"gridcolor\":\"white\",\"linecolor\":\"white\",\"ticks\":\"\"},\"bgcolor\":\"#E5ECF6\",\"caxis\":{\"gridcolor\":\"white\",\"linecolor\":\"white\",\"ticks\":\"\"}},\"title\":{\"x\":0.05},\"xaxis\":{\"automargin\":true,\"gridcolor\":\"white\",\"linecolor\":\"white\",\"ticks\":\"\",\"title\":{\"standoff\":15},\"zerolinecolor\":\"white\",\"zerolinewidth\":2},\"yaxis\":{\"automargin\":true,\"gridcolor\":\"white\",\"linecolor\":\"white\",\"ticks\":\"\",\"title\":{\"standoff\":15},\"zerolinecolor\":\"white\",\"zerolinewidth\":2}}},\"xaxis\":{\"anchor\":\"y\",\"domain\":[0.0,1.0],\"title\":{\"text\":\"year\"}},\"yaxis\":{\"anchor\":\"x\",\"domain\":[0.0,1.0],\"title\":{\"text\":\"total_waste_recycled_tonne\"}}},                        {\"responsive\": true}                    ).then(function(){\n",
       "                            \n",
       "var gd = document.getElementById('2ad7bc44-8828-477e-9a5c-973971d1da6a');\n",
       "var x = new MutationObserver(function (mutations, observer) {{\n",
       "        var display = window.getComputedStyle(gd).display;\n",
       "        if (!display || display === 'none') {{\n",
       "            console.log([gd, 'removed!']);\n",
       "            Plotly.purge(gd);\n",
       "            observer.disconnect();\n",
       "        }}\n",
       "}});\n",
       "\n",
       "// Listen for the removal of the full notebook cells\n",
       "var notebookContainer = gd.closest('#notebook-container');\n",
       "if (notebookContainer) {{\n",
       "    x.observe(notebookContainer, {childList: true});\n",
       "}}\n",
       "\n",
       "// Listen for the clearing of the current output cell\n",
       "var outputEl = gd.closest('.output');\n",
       "if (outputEl) {{\n",
       "    x.observe(outputEl, {childList: true});\n",
       "}}\n",
       "\n",
       "                        })                };                            </script>        </div>\n",
       "</body>\n",
       "</html>"
      ]
     },
     "metadata": {},
     "output_type": "display_data"
    }
   ],
   "source": [
    "fig = px.box(total_data, x=\"year\", y=\"total_waste_recycled_tonne\")\n",
    "fig.update_traces(quartilemethod=\"exclusive\")\n",
    "fig.show()\n"
   ]
  },
  {
   "cell_type": "code",
   "execution_count": 15,
   "metadata": {
    "allow_embed": "code_output",
    "cell_id": "00017-f577e7fc-02ec-4dad-be58-f84d4e9aa7a1",
    "deepnote_cell_type": "code",
    "deepnote_to_be_reexecuted": false,
    "execution_millis": 51,
    "execution_start": 1629195007923,
    "source_hash": "fc128e6c",
    "tags": []
   },
   "outputs": [
    {
     "data": {
      "application/vnd.deepnote.dataframe.v2+json": {
       "column_count": 9,
       "columns": [
        {
         "dtype": "object",
         "name": "waste_type",
         "stats": {
          "categories": [
           {
            "count": 1,
            "name": "Non-Ferrous Metal"
           },
           {
            "count": 1,
            "name": "Plastic"
           },
           {
            "count": 3,
            "name": "3 others"
           }
          ],
          "nan_count": 0,
          "unique_count": 5
         }
        },
        {
         "dtype": "int64",
         "name": "total_waste_generated_tonne",
         "stats": {
          "histogram": [
           {
            "bin_end": 184500,
            "bin_start": 64000,
            "count": 2
           },
           {
            "bin_end": 305000,
            "bin_start": 184500,
            "count": 0
           },
           {
            "bin_end": 425500,
            "bin_start": 305000,
            "count": 0
           },
           {
            "bin_end": 546000,
            "bin_start": 425500,
            "count": 0
           },
           {
            "bin_end": 666500,
            "bin_start": 546000,
            "count": 0
           },
           {
            "bin_end": 787000,
            "bin_start": 666500,
            "count": 0
           },
           {
            "bin_end": 907500,
            "bin_start": 787000,
            "count": 0
           },
           {
            "bin_end": 1028000,
            "bin_start": 907500,
            "count": 1
           },
           {
            "bin_end": 1148500,
            "bin_start": 1028000,
            "count": 1
           },
           {
            "bin_end": 1269000,
            "bin_start": 1148500,
            "count": 1
           }
          ],
          "max": "1269000",
          "min": "64000",
          "nan_count": 0,
          "unique_count": 5
         }
        },
        {
         "dtype": "float64",
         "name": "total_waste_recycled_tonne",
         "stats": {
          "histogram": [
           {
            "bin_end": 69400,
            "bin_start": 12000,
            "count": 2
           },
           {
            "bin_end": 126800,
            "bin_start": 69400,
            "count": 1
           },
           {
            "bin_end": 184200,
            "bin_start": 126800,
            "count": 1
           },
           {
            "bin_end": 241600,
            "bin_start": 184200,
            "count": 0
           },
           {
            "bin_end": 299000,
            "bin_start": 241600,
            "count": 0
           },
           {
            "bin_end": 356400,
            "bin_start": 299000,
            "count": 0
           },
           {
            "bin_end": 413800,
            "bin_start": 356400,
            "count": 0
           },
           {
            "bin_end": 471200,
            "bin_start": 413800,
            "count": 0
           },
           {
            "bin_end": 528600,
            "bin_start": 471200,
            "count": 0
           },
           {
            "bin_end": 586000,
            "bin_start": 528600,
            "count": 1
           }
          ],
          "max": "586000.0",
          "min": "12000.0",
          "nan_count": 0,
          "unique_count": 5
         }
        },
        {
         "dtype": "int64",
         "name": "year",
         "stats": {
          "histogram": [
           {
            "bin_end": 2017.6,
            "bin_start": 2017.5,
            "count": 0
           },
           {
            "bin_end": 2017.7,
            "bin_start": 2017.6,
            "count": 0
           },
           {
            "bin_end": 2017.8,
            "bin_start": 2017.7,
            "count": 0
           },
           {
            "bin_end": 2017.9,
            "bin_start": 2017.8,
            "count": 0
           },
           {
            "bin_end": 2018,
            "bin_start": 2017.9,
            "count": 0
           },
           {
            "bin_end": 2018.1,
            "bin_start": 2018,
            "count": 5
           },
           {
            "bin_end": 2018.2,
            "bin_start": 2018.1,
            "count": 0
           },
           {
            "bin_end": 2018.3,
            "bin_start": 2018.2,
            "count": 0
           },
           {
            "bin_end": 2018.4,
            "bin_start": 2018.3,
            "count": 0
           },
           {
            "bin_end": 2018.5,
            "bin_start": 2018.4,
            "count": 0
           }
          ],
          "max": "2018",
          "min": "2018",
          "nan_count": 0,
          "unique_count": 1
         }
        },
        {
         "dtype": "float64",
         "name": "recycling_rate",
         "stats": {
          "histogram": [
           {
            "bin_end": 0.135,
            "bin_start": 0.04,
            "count": 2
           },
           {
            "bin_end": 0.23,
            "bin_start": 0.135,
            "count": 1
           },
           {
            "bin_end": 0.325,
            "bin_start": 0.23,
            "count": 0
           },
           {
            "bin_end": 0.42,
            "bin_start": 0.325,
            "count": 0
           },
           {
            "bin_end": 0.515,
            "bin_start": 0.42,
            "count": 0
           },
           {
            "bin_end": 0.6100000000000001,
            "bin_start": 0.515,
            "count": 1
           },
           {
            "bin_end": 0.7050000000000001,
            "bin_start": 0.6100000000000001,
            "count": 0
           },
           {
            "bin_end": 0.8,
            "bin_start": 0.7050000000000001,
            "count": 0
           },
           {
            "bin_end": 0.895,
            "bin_start": 0.8,
            "count": 0
           },
           {
            "bin_end": 0.99,
            "bin_start": 0.895,
            "count": 1
           }
          ],
          "max": "0.99",
          "min": "0.04",
          "nan_count": 0,
          "unique_count": 5
         }
        },
        {
         "dtype": "object",
         "name": "material",
         "stats": {
          "categories": [
           {
            "count": 1,
            "name": "Non-Ferrous Metal"
           },
           {
            "count": 1,
            "name": "Plastic"
           },
           {
            "count": 3,
            "name": "3 others"
           }
          ],
          "nan_count": 0,
          "unique_count": 5
         }
        },
        {
         "dtype": "int64",
         "name": "energy_saved",
         "stats": {
          "histogram": [
           {
            "bin_end": 1437.8,
            "bin_start": 42,
            "count": 2
           },
           {
            "bin_end": 2833.6,
            "bin_start": 1437.8,
            "count": 0
           },
           {
            "bin_end": 4229.4,
            "bin_start": 2833.6,
            "count": 1
           },
           {
            "bin_end": 5625.2,
            "bin_start": 4229.4,
            "count": 0
           },
           {
            "bin_end": 7021,
            "bin_start": 5625.2,
            "count": 1
           },
           {
            "bin_end": 8416.8,
            "bin_start": 7021,
            "count": 0
           },
           {
            "bin_end": 9812.6,
            "bin_start": 8416.8,
            "count": 0
           },
           {
            "bin_end": 11208.4,
            "bin_start": 9812.6,
            "count": 0
           },
           {
            "bin_end": 12604.199999999999,
            "bin_start": 11208.4,
            "count": 0
           },
           {
            "bin_end": 14000,
            "bin_start": 12604.199999999999,
            "count": 1
           }
          ],
          "max": "14000",
          "min": "42",
          "nan_count": 0,
          "unique_count": 5
         }
        },
        {
         "dtype": "object",
         "name": "crude_oil_saved",
         "stats": {
          "categories": [
           {
            "count": 1,
            "name": "40 barrels"
           },
           {
            "count": 1,
            "name": "16 barrels"
           },
           {
            "count": 3,
            "name": "3 others"
           }
          ],
          "nan_count": 0,
          "unique_count": 5
         }
        },
        {
         "dtype": "float64",
         "name": "total_energy_saved",
         "stats": {
          "histogram": [
           {
            "bin_end": 240713600,
            "bin_start": 504000,
            "count": 3
           },
           {
            "bin_end": 480923200,
            "bin_start": 240713600,
            "count": 0
           },
           {
            "bin_end": 721132800,
            "bin_start": 480923200,
            "count": 0
           },
           {
            "bin_end": 961342400,
            "bin_start": 721132800,
            "count": 0
           },
           {
            "bin_end": 1201552000,
            "bin_start": 961342400,
            "count": 0
           },
           {
            "bin_end": 1441761600,
            "bin_start": 1201552000,
            "count": 0
           },
           {
            "bin_end": 1681971200,
            "bin_start": 1441761600,
            "count": 0
           },
           {
            "bin_end": 1922180800,
            "bin_start": 1681971200,
            "count": 0
           },
           {
            "bin_end": 2162390400,
            "bin_start": 1922180800,
            "count": 0
           },
           {
            "bin_end": 2402600000,
            "bin_start": 2162390400,
            "count": 2
           }
          ],
          "max": "2402600000.0",
          "min": "504000.0",
          "nan_count": 0,
          "unique_count": 5
         }
        },
        {
         "dtype": "int64",
         "name": "_deepnote_index_column"
        }
       ],
       "row_count": 5,
       "rows_bottom": null,
       "rows_top": [
        {
         "_deepnote_index_column": 228,
         "crude_oil_saved": "40 barrels",
         "energy_saved": 14000,
         "material": "Non-Ferrous Metal",
         "recycling_rate": 0.99,
         "total_energy_saved": 2380000000,
         "total_waste_generated_tonne": 171000,
         "total_waste_recycled_tonne": 170000,
         "waste_type": "Non-Ferrous Metal",
         "year": 2018
        },
        {
         "_deepnote_index_column": 235,
         "crude_oil_saved": "16 barrels",
         "energy_saved": 5774,
         "material": "Plastic",
         "recycling_rate": 0.04,
         "total_energy_saved": 236734000,
         "total_waste_generated_tonne": 949000,
         "total_waste_recycled_tonne": 41000,
         "waste_type": "Plastic",
         "year": 2018
        },
        {
         "_deepnote_index_column": 236,
         "crude_oil_saved": "11 barrels",
         "energy_saved": 4100,
         "material": "Paper",
         "recycling_rate": 0.56,
         "total_energy_saved": 2402600000,
         "total_waste_generated_tonne": 1054000,
         "total_waste_recycled_tonne": 586000,
         "waste_type": "Paper",
         "year": 2018
        },
        {
         "_deepnote_index_column": 237,
         "crude_oil_saved": "1.8 barrels",
         "energy_saved": 642,
         "material": "Ferrous Metal",
         "recycling_rate": 0.1,
         "total_energy_saved": 80892000,
         "total_waste_generated_tonne": 1269000,
         "total_waste_recycled_tonne": 126000,
         "waste_type": "Ferrous Metal",
         "year": 2018
        },
        {
         "_deepnote_index_column": 239,
         "crude_oil_saved": "0.12 barrels",
         "energy_saved": 42,
         "material": "Glass",
         "recycling_rate": 0.19,
         "total_energy_saved": 504000,
         "total_waste_generated_tonne": 64000,
         "total_waste_recycled_tonne": 12000,
         "waste_type": "Glass",
         "year": 2018
        }
       ]
      },
      "text/html": [
       "<div>\n",
       "<style scoped>\n",
       "    .dataframe tbody tr th:only-of-type {\n",
       "        vertical-align: middle;\n",
       "    }\n",
       "\n",
       "    .dataframe tbody tr th {\n",
       "        vertical-align: top;\n",
       "    }\n",
       "\n",
       "    .dataframe thead th {\n",
       "        text-align: right;\n",
       "    }\n",
       "</style>\n",
       "<table border=\"1\" class=\"dataframe\">\n",
       "  <thead>\n",
       "    <tr style=\"text-align: right;\">\n",
       "      <th></th>\n",
       "      <th>waste_type</th>\n",
       "      <th>total_waste_generated_tonne</th>\n",
       "      <th>total_waste_recycled_tonne</th>\n",
       "      <th>year</th>\n",
       "      <th>recycling_rate</th>\n",
       "      <th>material</th>\n",
       "      <th>energy_saved</th>\n",
       "      <th>crude_oil_saved</th>\n",
       "      <th>total_energy_saved</th>\n",
       "    </tr>\n",
       "  </thead>\n",
       "  <tbody>\n",
       "    <tr>\n",
       "      <th>228</th>\n",
       "      <td>Non-Ferrous Metal</td>\n",
       "      <td>171000</td>\n",
       "      <td>170000.0</td>\n",
       "      <td>2018</td>\n",
       "      <td>0.99</td>\n",
       "      <td>Non-Ferrous Metal</td>\n",
       "      <td>14000</td>\n",
       "      <td>40 barrels</td>\n",
       "      <td>2.380000e+09</td>\n",
       "    </tr>\n",
       "    <tr>\n",
       "      <th>235</th>\n",
       "      <td>Plastic</td>\n",
       "      <td>949000</td>\n",
       "      <td>41000.0</td>\n",
       "      <td>2018</td>\n",
       "      <td>0.04</td>\n",
       "      <td>Plastic</td>\n",
       "      <td>5774</td>\n",
       "      <td>16 barrels</td>\n",
       "      <td>2.367340e+08</td>\n",
       "    </tr>\n",
       "    <tr>\n",
       "      <th>236</th>\n",
       "      <td>Paper</td>\n",
       "      <td>1054000</td>\n",
       "      <td>586000.0</td>\n",
       "      <td>2018</td>\n",
       "      <td>0.56</td>\n",
       "      <td>Paper</td>\n",
       "      <td>4100</td>\n",
       "      <td>11 barrels</td>\n",
       "      <td>2.402600e+09</td>\n",
       "    </tr>\n",
       "    <tr>\n",
       "      <th>237</th>\n",
       "      <td>Ferrous Metal</td>\n",
       "      <td>1269000</td>\n",
       "      <td>126000.0</td>\n",
       "      <td>2018</td>\n",
       "      <td>0.10</td>\n",
       "      <td>Ferrous Metal</td>\n",
       "      <td>642</td>\n",
       "      <td>1.8 barrels</td>\n",
       "      <td>8.089200e+07</td>\n",
       "    </tr>\n",
       "    <tr>\n",
       "      <th>239</th>\n",
       "      <td>Glass</td>\n",
       "      <td>64000</td>\n",
       "      <td>12000.0</td>\n",
       "      <td>2018</td>\n",
       "      <td>0.19</td>\n",
       "      <td>Glass</td>\n",
       "      <td>42</td>\n",
       "      <td>0.12 barrels</td>\n",
       "      <td>5.040000e+05</td>\n",
       "    </tr>\n",
       "  </tbody>\n",
       "</table>\n",
       "</div>"
      ],
      "text/plain": [
       "            waste_type  total_waste_generated_tonne  \\\n",
       "228  Non-Ferrous Metal                       171000   \n",
       "235            Plastic                       949000   \n",
       "236              Paper                      1054000   \n",
       "237      Ferrous Metal                      1269000   \n",
       "239              Glass                        64000   \n",
       "\n",
       "     total_waste_recycled_tonne  year  recycling_rate           material  \\\n",
       "228                    170000.0  2018            0.99  Non-Ferrous Metal   \n",
       "235                     41000.0  2018            0.04            Plastic   \n",
       "236                    586000.0  2018            0.56              Paper   \n",
       "237                    126000.0  2018            0.10      Ferrous Metal   \n",
       "239                     12000.0  2018            0.19              Glass   \n",
       "\n",
       "     energy_saved crude_oil_saved  total_energy_saved  \n",
       "228         14000      40 barrels        2.380000e+09  \n",
       "235          5774      16 barrels        2.367340e+08  \n",
       "236          4100      11 barrels        2.402600e+09  \n",
       "237           642     1.8 barrels        8.089200e+07  \n",
       "239            42    0.12 barrels        5.040000e+05  "
      ]
     },
     "execution_count": 15,
     "metadata": {},
     "output_type": "execute_result"
    }
   ],
   "source": [
    "total_data[total_data['year']==2018]"
   ]
  },
  {
   "attachments": {},
   "cell_type": "markdown",
   "metadata": {
    "cell_id": "00026-e890822e-7a84-43d2-a8c1-8885c07f37d7",
    "deepnote_cell_type": "markdown",
    "tags": []
   },
   "source": [
    "After going through total waste recycled of 2018, we discovered that total waste generated for Ferrous Metal was 126900 tonne but total recycled waste was 126000. As we know the mean recycling rate for Ferrous metal is 90 but it was showing 10 percent which was odd, so I went back to original data on the site and discovered the mistake. We can clearly see in the [PDF](https://www.nea.gov.sg/docs/default-source/our-services/waste-management/waste-recycling-statistics-2016-to-2019.pdf) that entire zero was missing. "
   ]
  },
  {
   "cell_type": "code",
   "execution_count": 16,
   "metadata": {
    "allow_embed": "code_output",
    "cell_id": "00017-68a3cbad-894f-4094-825b-a23e952dcf86",
    "deepnote_cell_type": "code",
    "deepnote_to_be_reexecuted": false,
    "execution_millis": 68,
    "execution_start": 1629195007982,
    "source_hash": "d6f0e116",
    "tags": []
   },
   "outputs": [
    {
     "data": {
      "text/html": [
       "<html>\n",
       "<head><meta charset=\"utf-8\" /></head>\n",
       "<body>\n",
       "    <div>            <script src=\"https://cdnjs.cloudflare.com/ajax/libs/mathjax/2.7.5/MathJax.js?config=TeX-AMS-MML_SVG\"></script><script type=\"text/javascript\">if (window.MathJax) {MathJax.Hub.Config({SVG: {font: \"STIX-Web\"}});}</script>                <script type=\"text/javascript\">window.PlotlyConfig = {MathJaxConfig: 'local'};</script>\n",
       "        <script src=\"https://cdn.plot.ly/plotly-2.2.0.min.js\"></script>                <div id=\"62e601f3-7583-4e4c-be7e-21c8f5800d6f\" class=\"plotly-graph-div\" style=\"height:525px; width:100%;\"></div>            <script type=\"text/javascript\">                                    window.PLOTLYENV=window.PLOTLYENV || {};                                    if (document.getElementById(\"62e601f3-7583-4e4c-be7e-21c8f5800d6f\")) {                    Plotly.newPlot(                        \"62e601f3-7583-4e4c-be7e-21c8f5800d6f\",                        [{\"alignmentgroup\":\"True\",\"hovertemplate\":\"year=%{x}<br>total_waste_recycled_tonne=%{y}<extra></extra>\",\"legendgroup\":\"\",\"marker\":{\"color\":\"#636efa\"},\"name\":\"\",\"notched\":false,\"offsetgroup\":\"\",\"orientation\":\"v\",\"quartilemethod\":\"exclusive\",\"showlegend\":false,\"type\":\"box\",\"x\":[2003,2003,2003,2004,2004,2004,2005,2005,2005,2006,2006,2006,2007,2007,2007,2007,2008,2008,2008,2008,2009,2009,2009,2009,2010,2010,2010,2010,2011,2011,2011,2011,2012,2012,2012,2012,2013,2013,2013,2013,2014,2014,2014,2014,2014,2015,2015,2015,2015,2015,2016,2016,2016,2016,2016,2017,2017,2017,2017,2017,2018,2018,2018,2018,2018,2019,2019,2019,2019,2019,2020,2020,2020,2020,2020],\"x0\":\" \",\"xaxis\":\"x\",\"y\":[6200.0,39100.0,466200.0,74100.0,519900.0,4900.0,3800.0,540500.0,86000.0,77800.0,571400.0,6400.0,619000.0,75000.0,668000.0,5800.0,608600.0,61200.0,10000.0,735000.0,574200.0,60300.0,806200.0,15600.0,738200.0,78100.0,1127500.0,19200.0,21400.0,77000.0,765000.0,1171600.0,696700.0,82100.0,1331200.0,19500.0,679400.0,91100.0,1369200.0,14600.0,646500.0,1388900.0,80000.0,15700.0,94700.0,603700.0,57800.0,14600.0,160400.0,1333300.0,607100.0,59500.0,1351500.0,95900.0,14700.0,1371000.0,92200.0,568800.0,12400.0,51800.0,170000.0,41000.0,586000.0,1260000.0,12000.0,1270000.0,449000.0,37000.0,124000.0,11000.0,7000.0,73000.0,36000.0,930000.0,432000.0],\"y0\":\" \",\"yaxis\":\"y\"}],                        {\"boxmode\":\"group\",\"legend\":{\"tracegroupgap\":0},\"margin\":{\"t\":60},\"template\":{\"data\":{\"bar\":[{\"error_x\":{\"color\":\"#2a3f5f\"},\"error_y\":{\"color\":\"#2a3f5f\"},\"marker\":{\"line\":{\"color\":\"#E5ECF6\",\"width\":0.5},\"pattern\":{\"fillmode\":\"overlay\",\"size\":10,\"solidity\":0.2}},\"type\":\"bar\"}],\"barpolar\":[{\"marker\":{\"line\":{\"color\":\"#E5ECF6\",\"width\":0.5},\"pattern\":{\"fillmode\":\"overlay\",\"size\":10,\"solidity\":0.2}},\"type\":\"barpolar\"}],\"carpet\":[{\"aaxis\":{\"endlinecolor\":\"#2a3f5f\",\"gridcolor\":\"white\",\"linecolor\":\"white\",\"minorgridcolor\":\"white\",\"startlinecolor\":\"#2a3f5f\"},\"baxis\":{\"endlinecolor\":\"#2a3f5f\",\"gridcolor\":\"white\",\"linecolor\":\"white\",\"minorgridcolor\":\"white\",\"startlinecolor\":\"#2a3f5f\"},\"type\":\"carpet\"}],\"choropleth\":[{\"colorbar\":{\"outlinewidth\":0,\"ticks\":\"\"},\"type\":\"choropleth\"}],\"contour\":[{\"colorbar\":{\"outlinewidth\":0,\"ticks\":\"\"},\"colorscale\":[[0.0,\"#0d0887\"],[0.1111111111111111,\"#46039f\"],[0.2222222222222222,\"#7201a8\"],[0.3333333333333333,\"#9c179e\"],[0.4444444444444444,\"#bd3786\"],[0.5555555555555556,\"#d8576b\"],[0.6666666666666666,\"#ed7953\"],[0.7777777777777778,\"#fb9f3a\"],[0.8888888888888888,\"#fdca26\"],[1.0,\"#f0f921\"]],\"type\":\"contour\"}],\"contourcarpet\":[{\"colorbar\":{\"outlinewidth\":0,\"ticks\":\"\"},\"type\":\"contourcarpet\"}],\"heatmap\":[{\"colorbar\":{\"outlinewidth\":0,\"ticks\":\"\"},\"colorscale\":[[0.0,\"#0d0887\"],[0.1111111111111111,\"#46039f\"],[0.2222222222222222,\"#7201a8\"],[0.3333333333333333,\"#9c179e\"],[0.4444444444444444,\"#bd3786\"],[0.5555555555555556,\"#d8576b\"],[0.6666666666666666,\"#ed7953\"],[0.7777777777777778,\"#fb9f3a\"],[0.8888888888888888,\"#fdca26\"],[1.0,\"#f0f921\"]],\"type\":\"heatmap\"}],\"heatmapgl\":[{\"colorbar\":{\"outlinewidth\":0,\"ticks\":\"\"},\"colorscale\":[[0.0,\"#0d0887\"],[0.1111111111111111,\"#46039f\"],[0.2222222222222222,\"#7201a8\"],[0.3333333333333333,\"#9c179e\"],[0.4444444444444444,\"#bd3786\"],[0.5555555555555556,\"#d8576b\"],[0.6666666666666666,\"#ed7953\"],[0.7777777777777778,\"#fb9f3a\"],[0.8888888888888888,\"#fdca26\"],[1.0,\"#f0f921\"]],\"type\":\"heatmapgl\"}],\"histogram\":[{\"marker\":{\"pattern\":{\"fillmode\":\"overlay\",\"size\":10,\"solidity\":0.2}},\"type\":\"histogram\"}],\"histogram2d\":[{\"colorbar\":{\"outlinewidth\":0,\"ticks\":\"\"},\"colorscale\":[[0.0,\"#0d0887\"],[0.1111111111111111,\"#46039f\"],[0.2222222222222222,\"#7201a8\"],[0.3333333333333333,\"#9c179e\"],[0.4444444444444444,\"#bd3786\"],[0.5555555555555556,\"#d8576b\"],[0.6666666666666666,\"#ed7953\"],[0.7777777777777778,\"#fb9f3a\"],[0.8888888888888888,\"#fdca26\"],[1.0,\"#f0f921\"]],\"type\":\"histogram2d\"}],\"histogram2dcontour\":[{\"colorbar\":{\"outlinewidth\":0,\"ticks\":\"\"},\"colorscale\":[[0.0,\"#0d0887\"],[0.1111111111111111,\"#46039f\"],[0.2222222222222222,\"#7201a8\"],[0.3333333333333333,\"#9c179e\"],[0.4444444444444444,\"#bd3786\"],[0.5555555555555556,\"#d8576b\"],[0.6666666666666666,\"#ed7953\"],[0.7777777777777778,\"#fb9f3a\"],[0.8888888888888888,\"#fdca26\"],[1.0,\"#f0f921\"]],\"type\":\"histogram2dcontour\"}],\"mesh3d\":[{\"colorbar\":{\"outlinewidth\":0,\"ticks\":\"\"},\"type\":\"mesh3d\"}],\"parcoords\":[{\"line\":{\"colorbar\":{\"outlinewidth\":0,\"ticks\":\"\"}},\"type\":\"parcoords\"}],\"pie\":[{\"automargin\":true,\"type\":\"pie\"}],\"scatter\":[{\"marker\":{\"colorbar\":{\"outlinewidth\":0,\"ticks\":\"\"}},\"type\":\"scatter\"}],\"scatter3d\":[{\"line\":{\"colorbar\":{\"outlinewidth\":0,\"ticks\":\"\"}},\"marker\":{\"colorbar\":{\"outlinewidth\":0,\"ticks\":\"\"}},\"type\":\"scatter3d\"}],\"scattercarpet\":[{\"marker\":{\"colorbar\":{\"outlinewidth\":0,\"ticks\":\"\"}},\"type\":\"scattercarpet\"}],\"scattergeo\":[{\"marker\":{\"colorbar\":{\"outlinewidth\":0,\"ticks\":\"\"}},\"type\":\"scattergeo\"}],\"scattergl\":[{\"marker\":{\"colorbar\":{\"outlinewidth\":0,\"ticks\":\"\"}},\"type\":\"scattergl\"}],\"scattermapbox\":[{\"marker\":{\"colorbar\":{\"outlinewidth\":0,\"ticks\":\"\"}},\"type\":\"scattermapbox\"}],\"scatterpolar\":[{\"marker\":{\"colorbar\":{\"outlinewidth\":0,\"ticks\":\"\"}},\"type\":\"scatterpolar\"}],\"scatterpolargl\":[{\"marker\":{\"colorbar\":{\"outlinewidth\":0,\"ticks\":\"\"}},\"type\":\"scatterpolargl\"}],\"scatterternary\":[{\"marker\":{\"colorbar\":{\"outlinewidth\":0,\"ticks\":\"\"}},\"type\":\"scatterternary\"}],\"surface\":[{\"colorbar\":{\"outlinewidth\":0,\"ticks\":\"\"},\"colorscale\":[[0.0,\"#0d0887\"],[0.1111111111111111,\"#46039f\"],[0.2222222222222222,\"#7201a8\"],[0.3333333333333333,\"#9c179e\"],[0.4444444444444444,\"#bd3786\"],[0.5555555555555556,\"#d8576b\"],[0.6666666666666666,\"#ed7953\"],[0.7777777777777778,\"#fb9f3a\"],[0.8888888888888888,\"#fdca26\"],[1.0,\"#f0f921\"]],\"type\":\"surface\"}],\"table\":[{\"cells\":{\"fill\":{\"color\":\"#EBF0F8\"},\"line\":{\"color\":\"white\"}},\"header\":{\"fill\":{\"color\":\"#C8D4E3\"},\"line\":{\"color\":\"white\"}},\"type\":\"table\"}]},\"layout\":{\"annotationdefaults\":{\"arrowcolor\":\"#2a3f5f\",\"arrowhead\":0,\"arrowwidth\":1},\"autotypenumbers\":\"strict\",\"coloraxis\":{\"colorbar\":{\"outlinewidth\":0,\"ticks\":\"\"}},\"colorscale\":{\"diverging\":[[0,\"#8e0152\"],[0.1,\"#c51b7d\"],[0.2,\"#de77ae\"],[0.3,\"#f1b6da\"],[0.4,\"#fde0ef\"],[0.5,\"#f7f7f7\"],[0.6,\"#e6f5d0\"],[0.7,\"#b8e186\"],[0.8,\"#7fbc41\"],[0.9,\"#4d9221\"],[1,\"#276419\"]],\"sequential\":[[0.0,\"#0d0887\"],[0.1111111111111111,\"#46039f\"],[0.2222222222222222,\"#7201a8\"],[0.3333333333333333,\"#9c179e\"],[0.4444444444444444,\"#bd3786\"],[0.5555555555555556,\"#d8576b\"],[0.6666666666666666,\"#ed7953\"],[0.7777777777777778,\"#fb9f3a\"],[0.8888888888888888,\"#fdca26\"],[1.0,\"#f0f921\"]],\"sequentialminus\":[[0.0,\"#0d0887\"],[0.1111111111111111,\"#46039f\"],[0.2222222222222222,\"#7201a8\"],[0.3333333333333333,\"#9c179e\"],[0.4444444444444444,\"#bd3786\"],[0.5555555555555556,\"#d8576b\"],[0.6666666666666666,\"#ed7953\"],[0.7777777777777778,\"#fb9f3a\"],[0.8888888888888888,\"#fdca26\"],[1.0,\"#f0f921\"]]},\"colorway\":[\"#636efa\",\"#EF553B\",\"#00cc96\",\"#ab63fa\",\"#FFA15A\",\"#19d3f3\",\"#FF6692\",\"#B6E880\",\"#FF97FF\",\"#FECB52\"],\"font\":{\"color\":\"#2a3f5f\"},\"geo\":{\"bgcolor\":\"white\",\"lakecolor\":\"white\",\"landcolor\":\"#E5ECF6\",\"showlakes\":true,\"showland\":true,\"subunitcolor\":\"white\"},\"hoverlabel\":{\"align\":\"left\"},\"hovermode\":\"closest\",\"mapbox\":{\"style\":\"light\"},\"paper_bgcolor\":\"white\",\"plot_bgcolor\":\"#E5ECF6\",\"polar\":{\"angularaxis\":{\"gridcolor\":\"white\",\"linecolor\":\"white\",\"ticks\":\"\"},\"bgcolor\":\"#E5ECF6\",\"radialaxis\":{\"gridcolor\":\"white\",\"linecolor\":\"white\",\"ticks\":\"\"}},\"scene\":{\"xaxis\":{\"backgroundcolor\":\"#E5ECF6\",\"gridcolor\":\"white\",\"gridwidth\":2,\"linecolor\":\"white\",\"showbackground\":true,\"ticks\":\"\",\"zerolinecolor\":\"white\"},\"yaxis\":{\"backgroundcolor\":\"#E5ECF6\",\"gridcolor\":\"white\",\"gridwidth\":2,\"linecolor\":\"white\",\"showbackground\":true,\"ticks\":\"\",\"zerolinecolor\":\"white\"},\"zaxis\":{\"backgroundcolor\":\"#E5ECF6\",\"gridcolor\":\"white\",\"gridwidth\":2,\"linecolor\":\"white\",\"showbackground\":true,\"ticks\":\"\",\"zerolinecolor\":\"white\"}},\"shapedefaults\":{\"line\":{\"color\":\"#2a3f5f\"}},\"ternary\":{\"aaxis\":{\"gridcolor\":\"white\",\"linecolor\":\"white\",\"ticks\":\"\"},\"baxis\":{\"gridcolor\":\"white\",\"linecolor\":\"white\",\"ticks\":\"\"},\"bgcolor\":\"#E5ECF6\",\"caxis\":{\"gridcolor\":\"white\",\"linecolor\":\"white\",\"ticks\":\"\"}},\"title\":{\"x\":0.05},\"xaxis\":{\"automargin\":true,\"gridcolor\":\"white\",\"linecolor\":\"white\",\"ticks\":\"\",\"title\":{\"standoff\":15},\"zerolinecolor\":\"white\",\"zerolinewidth\":2},\"yaxis\":{\"automargin\":true,\"gridcolor\":\"white\",\"linecolor\":\"white\",\"ticks\":\"\",\"title\":{\"standoff\":15},\"zerolinecolor\":\"white\",\"zerolinewidth\":2}}},\"xaxis\":{\"anchor\":\"y\",\"domain\":[0.0,1.0],\"title\":{\"text\":\"year\"}},\"yaxis\":{\"anchor\":\"x\",\"domain\":[0.0,1.0],\"title\":{\"text\":\"total_waste_recycled_tonne\"}}},                        {\"responsive\": true}                    ).then(function(){\n",
       "                            \n",
       "var gd = document.getElementById('62e601f3-7583-4e4c-be7e-21c8f5800d6f');\n",
       "var x = new MutationObserver(function (mutations, observer) {{\n",
       "        var display = window.getComputedStyle(gd).display;\n",
       "        if (!display || display === 'none') {{\n",
       "            console.log([gd, 'removed!']);\n",
       "            Plotly.purge(gd);\n",
       "            observer.disconnect();\n",
       "        }}\n",
       "}});\n",
       "\n",
       "// Listen for the removal of the full notebook cells\n",
       "var notebookContainer = gd.closest('#notebook-container');\n",
       "if (notebookContainer) {{\n",
       "    x.observe(notebookContainer, {childList: true});\n",
       "}}\n",
       "\n",
       "// Listen for the clearing of the current output cell\n",
       "var outputEl = gd.closest('.output');\n",
       "if (outputEl) {{\n",
       "    x.observe(outputEl, {childList: true});\n",
       "}}\n",
       "\n",
       "                        })                };                            </script>        </div>\n",
       "</body>\n",
       "</html>"
      ]
     },
     "metadata": {},
     "output_type": "display_data"
    }
   ],
   "source": [
    "total_data.loc[237, \"total_waste_recycled_tonne\"] = 1260000\n",
    "total_data[\"total_energy_saved\"] = total_data.loc[:, \"total_waste_recycled_tonne\"] * (\n",
    "    total_data.loc[:, \"energy_saved\"]\n",
    ")\n",
    "\n",
    "fig = px.box(total_data, x=\"year\", y=\"total_waste_recycled_tonne\")\n",
    "fig.update_traces(quartilemethod=\"exclusive\") \n",
    "fig.show()\n"
   ]
  },
  {
   "attachments": {},
   "cell_type": "markdown",
   "metadata": {
    "cell_id": "00028-43f31005-1072-4ba2-b214-fcc5aef75f9e",
    "deepnote_cell_type": "markdown",
    "tags": []
   },
   "source": [
    "The Box Plot of total energy saved is all over the place as some of the material produce higher energy kWh per metric tonne."
   ]
  },
  {
   "cell_type": "code",
   "execution_count": 17,
   "metadata": {
    "allow_embed": "code_output",
    "cell_id": "00012-fa240275-76ad-4dce-abf2-02d1bdb6d380",
    "deepnote_cell_type": "code",
    "deepnote_to_be_reexecuted": false,
    "execution_millis": 42,
    "execution_start": 1629195008088,
    "source_hash": "ba8b3973",
    "tags": []
   },
   "outputs": [
    {
     "data": {
      "text/html": [
       "<html>\n",
       "<head><meta charset=\"utf-8\" /></head>\n",
       "<body>\n",
       "    <div>            <script src=\"https://cdnjs.cloudflare.com/ajax/libs/mathjax/2.7.5/MathJax.js?config=TeX-AMS-MML_SVG\"></script><script type=\"text/javascript\">if (window.MathJax) {MathJax.Hub.Config({SVG: {font: \"STIX-Web\"}});}</script>                <script type=\"text/javascript\">window.PlotlyConfig = {MathJaxConfig: 'local'};</script>\n",
       "        <script src=\"https://cdn.plot.ly/plotly-2.2.0.min.js\"></script>                <div id=\"618ea599-5062-4ec8-94eb-b0a4e1472ef9\" class=\"plotly-graph-div\" style=\"height:525px; width:100%;\"></div>            <script type=\"text/javascript\">                                    window.PLOTLYENV=window.PLOTLYENV || {};                                    if (document.getElementById(\"618ea599-5062-4ec8-94eb-b0a4e1472ef9\")) {                    Plotly.newPlot(                        \"618ea599-5062-4ec8-94eb-b0a4e1472ef9\",                        [{\"alignmentgroup\":\"True\",\"hovertemplate\":\"year=%{x}<br>total_energy_saved=%{y}<extra></extra>\",\"legendgroup\":\"\",\"marker\":{\"color\":\"#636efa\"},\"name\":\"\",\"notched\":false,\"offsetgroup\":\"\",\"orientation\":\"v\",\"quartilemethod\":\"exclusive\",\"showlegend\":false,\"type\":\"box\",\"x\":[2003,2003,2003,2004,2004,2004,2005,2005,2005,2006,2006,2006,2007,2007,2007,2007,2008,2008,2008,2008,2009,2009,2009,2009,2010,2010,2010,2010,2011,2011,2011,2011,2012,2012,2012,2012,2013,2013,2013,2013,2014,2014,2014,2014,2014,2015,2015,2015,2015,2015,2016,2016,2016,2016,2016,2017,2017,2017,2017,2017,2018,2018,2018,2018,2018,2019,2019,2019,2019,2019,2020,2020,2020,2020,2020],\"x0\":\" \",\"xaxis\":\"x\",\"y\":[260400.0,225763400.0,1911420000.0,427853400.0,2131590000.0,205800.0,159600.0,2216050000.0,496564000.0,449217200.0,2342740000.0,268800.0,2537900000.0,433050000.0,428856000.0,243600.0,2495260000.0,353368800.0,420000.0,471870000.0,2354220000.0,348172200.0,517580400.0,655200.0,3026620000.0,450949400.0,723855000.0,806400.0,898800.0,444598000.0,3136500000.0,752167200.0,2856470000.0,474045400.0,854630400.0,819000.0,2785540000.0,526011400.0,879026400.0,613200.0,2650650000.0,891673800.0,461920000.0,659400.0,1325800000.0,2475170000.0,333737200.0,613200.0,2245600000.0,855978600.0,2489110000.0,343553000.0,867663000.0,1342600000.0,617400.0,880182000.0,1290800000.0,2332080000.0,520800.0,299093200.0,2380000000.0,236734000.0,2402600000.0,808920000.0,504000.0,815340000.0,1840900000.0,213638000.0,1736000000.0,462000.0,294000.0,1022000000.0,207864000.0,597060000.0,1771200000.0],\"y0\":\" \",\"yaxis\":\"y\"}],                        {\"boxmode\":\"group\",\"legend\":{\"tracegroupgap\":0},\"margin\":{\"t\":60},\"template\":{\"data\":{\"bar\":[{\"error_x\":{\"color\":\"#2a3f5f\"},\"error_y\":{\"color\":\"#2a3f5f\"},\"marker\":{\"line\":{\"color\":\"#E5ECF6\",\"width\":0.5},\"pattern\":{\"fillmode\":\"overlay\",\"size\":10,\"solidity\":0.2}},\"type\":\"bar\"}],\"barpolar\":[{\"marker\":{\"line\":{\"color\":\"#E5ECF6\",\"width\":0.5},\"pattern\":{\"fillmode\":\"overlay\",\"size\":10,\"solidity\":0.2}},\"type\":\"barpolar\"}],\"carpet\":[{\"aaxis\":{\"endlinecolor\":\"#2a3f5f\",\"gridcolor\":\"white\",\"linecolor\":\"white\",\"minorgridcolor\":\"white\",\"startlinecolor\":\"#2a3f5f\"},\"baxis\":{\"endlinecolor\":\"#2a3f5f\",\"gridcolor\":\"white\",\"linecolor\":\"white\",\"minorgridcolor\":\"white\",\"startlinecolor\":\"#2a3f5f\"},\"type\":\"carpet\"}],\"choropleth\":[{\"colorbar\":{\"outlinewidth\":0,\"ticks\":\"\"},\"type\":\"choropleth\"}],\"contour\":[{\"colorbar\":{\"outlinewidth\":0,\"ticks\":\"\"},\"colorscale\":[[0.0,\"#0d0887\"],[0.1111111111111111,\"#46039f\"],[0.2222222222222222,\"#7201a8\"],[0.3333333333333333,\"#9c179e\"],[0.4444444444444444,\"#bd3786\"],[0.5555555555555556,\"#d8576b\"],[0.6666666666666666,\"#ed7953\"],[0.7777777777777778,\"#fb9f3a\"],[0.8888888888888888,\"#fdca26\"],[1.0,\"#f0f921\"]],\"type\":\"contour\"}],\"contourcarpet\":[{\"colorbar\":{\"outlinewidth\":0,\"ticks\":\"\"},\"type\":\"contourcarpet\"}],\"heatmap\":[{\"colorbar\":{\"outlinewidth\":0,\"ticks\":\"\"},\"colorscale\":[[0.0,\"#0d0887\"],[0.1111111111111111,\"#46039f\"],[0.2222222222222222,\"#7201a8\"],[0.3333333333333333,\"#9c179e\"],[0.4444444444444444,\"#bd3786\"],[0.5555555555555556,\"#d8576b\"],[0.6666666666666666,\"#ed7953\"],[0.7777777777777778,\"#fb9f3a\"],[0.8888888888888888,\"#fdca26\"],[1.0,\"#f0f921\"]],\"type\":\"heatmap\"}],\"heatmapgl\":[{\"colorbar\":{\"outlinewidth\":0,\"ticks\":\"\"},\"colorscale\":[[0.0,\"#0d0887\"],[0.1111111111111111,\"#46039f\"],[0.2222222222222222,\"#7201a8\"],[0.3333333333333333,\"#9c179e\"],[0.4444444444444444,\"#bd3786\"],[0.5555555555555556,\"#d8576b\"],[0.6666666666666666,\"#ed7953\"],[0.7777777777777778,\"#fb9f3a\"],[0.8888888888888888,\"#fdca26\"],[1.0,\"#f0f921\"]],\"type\":\"heatmapgl\"}],\"histogram\":[{\"marker\":{\"pattern\":{\"fillmode\":\"overlay\",\"size\":10,\"solidity\":0.2}},\"type\":\"histogram\"}],\"histogram2d\":[{\"colorbar\":{\"outlinewidth\":0,\"ticks\":\"\"},\"colorscale\":[[0.0,\"#0d0887\"],[0.1111111111111111,\"#46039f\"],[0.2222222222222222,\"#7201a8\"],[0.3333333333333333,\"#9c179e\"],[0.4444444444444444,\"#bd3786\"],[0.5555555555555556,\"#d8576b\"],[0.6666666666666666,\"#ed7953\"],[0.7777777777777778,\"#fb9f3a\"],[0.8888888888888888,\"#fdca26\"],[1.0,\"#f0f921\"]],\"type\":\"histogram2d\"}],\"histogram2dcontour\":[{\"colorbar\":{\"outlinewidth\":0,\"ticks\":\"\"},\"colorscale\":[[0.0,\"#0d0887\"],[0.1111111111111111,\"#46039f\"],[0.2222222222222222,\"#7201a8\"],[0.3333333333333333,\"#9c179e\"],[0.4444444444444444,\"#bd3786\"],[0.5555555555555556,\"#d8576b\"],[0.6666666666666666,\"#ed7953\"],[0.7777777777777778,\"#fb9f3a\"],[0.8888888888888888,\"#fdca26\"],[1.0,\"#f0f921\"]],\"type\":\"histogram2dcontour\"}],\"mesh3d\":[{\"colorbar\":{\"outlinewidth\":0,\"ticks\":\"\"},\"type\":\"mesh3d\"}],\"parcoords\":[{\"line\":{\"colorbar\":{\"outlinewidth\":0,\"ticks\":\"\"}},\"type\":\"parcoords\"}],\"pie\":[{\"automargin\":true,\"type\":\"pie\"}],\"scatter\":[{\"marker\":{\"colorbar\":{\"outlinewidth\":0,\"ticks\":\"\"}},\"type\":\"scatter\"}],\"scatter3d\":[{\"line\":{\"colorbar\":{\"outlinewidth\":0,\"ticks\":\"\"}},\"marker\":{\"colorbar\":{\"outlinewidth\":0,\"ticks\":\"\"}},\"type\":\"scatter3d\"}],\"scattercarpet\":[{\"marker\":{\"colorbar\":{\"outlinewidth\":0,\"ticks\":\"\"}},\"type\":\"scattercarpet\"}],\"scattergeo\":[{\"marker\":{\"colorbar\":{\"outlinewidth\":0,\"ticks\":\"\"}},\"type\":\"scattergeo\"}],\"scattergl\":[{\"marker\":{\"colorbar\":{\"outlinewidth\":0,\"ticks\":\"\"}},\"type\":\"scattergl\"}],\"scattermapbox\":[{\"marker\":{\"colorbar\":{\"outlinewidth\":0,\"ticks\":\"\"}},\"type\":\"scattermapbox\"}],\"scatterpolar\":[{\"marker\":{\"colorbar\":{\"outlinewidth\":0,\"ticks\":\"\"}},\"type\":\"scatterpolar\"}],\"scatterpolargl\":[{\"marker\":{\"colorbar\":{\"outlinewidth\":0,\"ticks\":\"\"}},\"type\":\"scatterpolargl\"}],\"scatterternary\":[{\"marker\":{\"colorbar\":{\"outlinewidth\":0,\"ticks\":\"\"}},\"type\":\"scatterternary\"}],\"surface\":[{\"colorbar\":{\"outlinewidth\":0,\"ticks\":\"\"},\"colorscale\":[[0.0,\"#0d0887\"],[0.1111111111111111,\"#46039f\"],[0.2222222222222222,\"#7201a8\"],[0.3333333333333333,\"#9c179e\"],[0.4444444444444444,\"#bd3786\"],[0.5555555555555556,\"#d8576b\"],[0.6666666666666666,\"#ed7953\"],[0.7777777777777778,\"#fb9f3a\"],[0.8888888888888888,\"#fdca26\"],[1.0,\"#f0f921\"]],\"type\":\"surface\"}],\"table\":[{\"cells\":{\"fill\":{\"color\":\"#EBF0F8\"},\"line\":{\"color\":\"white\"}},\"header\":{\"fill\":{\"color\":\"#C8D4E3\"},\"line\":{\"color\":\"white\"}},\"type\":\"table\"}]},\"layout\":{\"annotationdefaults\":{\"arrowcolor\":\"#2a3f5f\",\"arrowhead\":0,\"arrowwidth\":1},\"autotypenumbers\":\"strict\",\"coloraxis\":{\"colorbar\":{\"outlinewidth\":0,\"ticks\":\"\"}},\"colorscale\":{\"diverging\":[[0,\"#8e0152\"],[0.1,\"#c51b7d\"],[0.2,\"#de77ae\"],[0.3,\"#f1b6da\"],[0.4,\"#fde0ef\"],[0.5,\"#f7f7f7\"],[0.6,\"#e6f5d0\"],[0.7,\"#b8e186\"],[0.8,\"#7fbc41\"],[0.9,\"#4d9221\"],[1,\"#276419\"]],\"sequential\":[[0.0,\"#0d0887\"],[0.1111111111111111,\"#46039f\"],[0.2222222222222222,\"#7201a8\"],[0.3333333333333333,\"#9c179e\"],[0.4444444444444444,\"#bd3786\"],[0.5555555555555556,\"#d8576b\"],[0.6666666666666666,\"#ed7953\"],[0.7777777777777778,\"#fb9f3a\"],[0.8888888888888888,\"#fdca26\"],[1.0,\"#f0f921\"]],\"sequentialminus\":[[0.0,\"#0d0887\"],[0.1111111111111111,\"#46039f\"],[0.2222222222222222,\"#7201a8\"],[0.3333333333333333,\"#9c179e\"],[0.4444444444444444,\"#bd3786\"],[0.5555555555555556,\"#d8576b\"],[0.6666666666666666,\"#ed7953\"],[0.7777777777777778,\"#fb9f3a\"],[0.8888888888888888,\"#fdca26\"],[1.0,\"#f0f921\"]]},\"colorway\":[\"#636efa\",\"#EF553B\",\"#00cc96\",\"#ab63fa\",\"#FFA15A\",\"#19d3f3\",\"#FF6692\",\"#B6E880\",\"#FF97FF\",\"#FECB52\"],\"font\":{\"color\":\"#2a3f5f\"},\"geo\":{\"bgcolor\":\"white\",\"lakecolor\":\"white\",\"landcolor\":\"#E5ECF6\",\"showlakes\":true,\"showland\":true,\"subunitcolor\":\"white\"},\"hoverlabel\":{\"align\":\"left\"},\"hovermode\":\"closest\",\"mapbox\":{\"style\":\"light\"},\"paper_bgcolor\":\"white\",\"plot_bgcolor\":\"#E5ECF6\",\"polar\":{\"angularaxis\":{\"gridcolor\":\"white\",\"linecolor\":\"white\",\"ticks\":\"\"},\"bgcolor\":\"#E5ECF6\",\"radialaxis\":{\"gridcolor\":\"white\",\"linecolor\":\"white\",\"ticks\":\"\"}},\"scene\":{\"xaxis\":{\"backgroundcolor\":\"#E5ECF6\",\"gridcolor\":\"white\",\"gridwidth\":2,\"linecolor\":\"white\",\"showbackground\":true,\"ticks\":\"\",\"zerolinecolor\":\"white\"},\"yaxis\":{\"backgroundcolor\":\"#E5ECF6\",\"gridcolor\":\"white\",\"gridwidth\":2,\"linecolor\":\"white\",\"showbackground\":true,\"ticks\":\"\",\"zerolinecolor\":\"white\"},\"zaxis\":{\"backgroundcolor\":\"#E5ECF6\",\"gridcolor\":\"white\",\"gridwidth\":2,\"linecolor\":\"white\",\"showbackground\":true,\"ticks\":\"\",\"zerolinecolor\":\"white\"}},\"shapedefaults\":{\"line\":{\"color\":\"#2a3f5f\"}},\"ternary\":{\"aaxis\":{\"gridcolor\":\"white\",\"linecolor\":\"white\",\"ticks\":\"\"},\"baxis\":{\"gridcolor\":\"white\",\"linecolor\":\"white\",\"ticks\":\"\"},\"bgcolor\":\"#E5ECF6\",\"caxis\":{\"gridcolor\":\"white\",\"linecolor\":\"white\",\"ticks\":\"\"}},\"title\":{\"x\":0.05},\"xaxis\":{\"automargin\":true,\"gridcolor\":\"white\",\"linecolor\":\"white\",\"ticks\":\"\",\"title\":{\"standoff\":15},\"zerolinecolor\":\"white\",\"zerolinewidth\":2},\"yaxis\":{\"automargin\":true,\"gridcolor\":\"white\",\"linecolor\":\"white\",\"ticks\":\"\",\"title\":{\"standoff\":15},\"zerolinecolor\":\"white\",\"zerolinewidth\":2}}},\"xaxis\":{\"anchor\":\"y\",\"domain\":[0.0,1.0],\"title\":{\"text\":\"year\"}},\"yaxis\":{\"anchor\":\"x\",\"domain\":[0.0,1.0],\"title\":{\"text\":\"total_energy_saved\"}}},                        {\"responsive\": true}                    ).then(function(){\n",
       "                            \n",
       "var gd = document.getElementById('618ea599-5062-4ec8-94eb-b0a4e1472ef9');\n",
       "var x = new MutationObserver(function (mutations, observer) {{\n",
       "        var display = window.getComputedStyle(gd).display;\n",
       "        if (!display || display === 'none') {{\n",
       "            console.log([gd, 'removed!']);\n",
       "            Plotly.purge(gd);\n",
       "            observer.disconnect();\n",
       "        }}\n",
       "}});\n",
       "\n",
       "// Listen for the removal of the full notebook cells\n",
       "var notebookContainer = gd.closest('#notebook-container');\n",
       "if (notebookContainer) {{\n",
       "    x.observe(notebookContainer, {childList: true});\n",
       "}}\n",
       "\n",
       "// Listen for the clearing of the current output cell\n",
       "var outputEl = gd.closest('.output');\n",
       "if (outputEl) {{\n",
       "    x.observe(outputEl, {childList: true});\n",
       "}}\n",
       "\n",
       "                        })                };                            </script>        </div>\n",
       "</body>\n",
       "</html>"
      ]
     },
     "metadata": {},
     "output_type": "display_data"
    }
   ],
   "source": [
    "fig = px.box(total_data, x=\"year\", y=\"total_energy_saved\")\n",
    "fig.update_traces(quartilemethod=\"exclusive\") \n",
    "fig.show()"
   ]
  },
  {
   "attachments": {},
   "cell_type": "markdown",
   "metadata": {
    "cell_id": "00030-6dc13a7c-c0cf-46ff-a79c-cb4085bbe1c9",
    "deepnote_cell_type": "markdown",
    "tags": []
   },
   "source": [
    "We can interact more with our data and look for patter in multilevel scatter plot. As we can see total energy saved from paper and plastic have significantly reduce in past few years due to government initiative to control the waste produce."
   ]
  },
  {
   "cell_type": "code",
   "execution_count": 18,
   "metadata": {
    "allow_embed": "code_output",
    "cell_id": "00013-d03464b3-4fa6-4072-883c-d444f7fdd2b7",
    "deepnote_cell_type": "code",
    "deepnote_to_be_reexecuted": false,
    "execution_millis": 121,
    "execution_start": 1629195008166,
    "source_hash": "b3579494",
    "tags": []
   },
   "outputs": [
    {
     "data": {
      "text/html": [
       "<html>\n",
       "<head><meta charset=\"utf-8\" /></head>\n",
       "<body>\n",
       "    <div>            <script src=\"https://cdnjs.cloudflare.com/ajax/libs/mathjax/2.7.5/MathJax.js?config=TeX-AMS-MML_SVG\"></script><script type=\"text/javascript\">if (window.MathJax) {MathJax.Hub.Config({SVG: {font: \"STIX-Web\"}});}</script>                <script type=\"text/javascript\">window.PlotlyConfig = {MathJaxConfig: 'local'};</script>\n",
       "        <script src=\"https://cdn.plot.ly/plotly-2.2.0.min.js\"></script>                <div id=\"8e28c60a-4dc5-4f6b-9559-8b1d6eeef55d\" class=\"plotly-graph-div\" style=\"height:525px; width:100%;\"></div>            <script type=\"text/javascript\">                                    window.PLOTLYENV=window.PLOTLYENV || {};                                    if (document.getElementById(\"8e28c60a-4dc5-4f6b-9559-8b1d6eeef55d\")) {                    Plotly.newPlot(                        \"8e28c60a-4dc5-4f6b-9559-8b1d6eeef55d\",                        [{\"hovertemplate\":\"material=Glass<br>year=%{x}<br>total_energy_saved=%{y}<br>total_waste_recycled_tonne=%{marker.size}<extra></extra>\",\"legendgroup\":\"Glass\",\"marker\":{\"color\":\"#636efa\",\"size\":[6200.0,4900.0,3800.0,6400.0,5800.0,10000.0,15600.0,19200.0,21400.0,19500.0,14600.0,15700.0,14600.0,14700.0,12400.0,12000.0,11000.0,7000.0],\"sizemode\":\"area\",\"sizeref\":385.80555555555554,\"symbol\":\"circle\"},\"mode\":\"markers\",\"name\":\"Glass\",\"orientation\":\"v\",\"showlegend\":true,\"type\":\"scatter\",\"x\":[2003,2004,2005,2006,2007,2008,2009,2010,2011,2012,2013,2014,2015,2016,2017,2018,2019,2020],\"xaxis\":\"x\",\"y\":[260400.0,205800.0,159600.0,268800.0,243600.0,420000.0,655200.0,806400.0,898800.0,819000.0,613200.0,659400.0,613200.0,617400.0,520800.0,504000.0,462000.0,294000.0],\"yaxis\":\"y\"},{\"hovertemplate\":\"material=Plastic<br>year=%{x}<br>total_energy_saved=%{y}<br>total_waste_recycled_tonne=%{marker.size}<extra></extra>\",\"legendgroup\":\"Plastic\",\"marker\":{\"color\":\"#EF553B\",\"size\":[39100.0,74100.0,86000.0,77800.0,75000.0,61200.0,60300.0,78100.0,77000.0,82100.0,91100.0,80000.0,57800.0,59500.0,51800.0,41000.0,37000.0,36000.0],\"sizemode\":\"area\",\"sizeref\":385.80555555555554,\"symbol\":\"circle\"},\"mode\":\"markers\",\"name\":\"Plastic\",\"orientation\":\"v\",\"showlegend\":true,\"type\":\"scatter\",\"x\":[2003,2004,2005,2006,2007,2008,2009,2010,2011,2012,2013,2014,2015,2016,2017,2018,2019,2020],\"xaxis\":\"x\",\"y\":[225763400.0,427853400.0,496564000.0,449217200.0,433050000.0,353368800.0,348172200.0,450949400.0,444598000.0,474045400.0,526011400.0,461920000.0,333737200.0,343553000.0,299093200.0,236734000.0,213638000.0,207864000.0],\"yaxis\":\"y\"},{\"hovertemplate\":\"material=Paper<br>year=%{x}<br>total_energy_saved=%{y}<br>total_waste_recycled_tonne=%{marker.size}<extra></extra>\",\"legendgroup\":\"Paper\",\"marker\":{\"color\":\"#00cc96\",\"size\":[466200.0,519900.0,540500.0,571400.0,619000.0,608600.0,574200.0,738200.0,765000.0,696700.0,679400.0,646500.0,603700.0,607100.0,568800.0,586000.0,449000.0,432000.0],\"sizemode\":\"area\",\"sizeref\":385.80555555555554,\"symbol\":\"circle\"},\"mode\":\"markers\",\"name\":\"Paper\",\"orientation\":\"v\",\"showlegend\":true,\"type\":\"scatter\",\"x\":[2003,2004,2005,2006,2007,2008,2009,2010,2011,2012,2013,2014,2015,2016,2017,2018,2019,2020],\"xaxis\":\"x\",\"y\":[1911420000.0,2131590000.0,2216050000.0,2342740000.0,2537900000.0,2495260000.0,2354220000.0,3026620000.0,3136500000.0,2856470000.0,2785540000.0,2650650000.0,2475170000.0,2489110000.0,2332080000.0,2402600000.0,1840900000.0,1771200000.0],\"yaxis\":\"y\"},{\"hovertemplate\":\"material=Ferrous Metal<br>year=%{x}<br>total_energy_saved=%{y}<br>total_waste_recycled_tonne=%{marker.size}<extra></extra>\",\"legendgroup\":\"Ferrous Metal\",\"marker\":{\"color\":\"#ab63fa\",\"size\":[668000.0,735000.0,806200.0,1127500.0,1171600.0,1331200.0,1369200.0,1388900.0,1333300.0,1351500.0,1371000.0,1260000.0,1270000.0,930000.0],\"sizemode\":\"area\",\"sizeref\":385.80555555555554,\"symbol\":\"circle\"},\"mode\":\"markers\",\"name\":\"Ferrous Metal\",\"orientation\":\"v\",\"showlegend\":true,\"type\":\"scatter\",\"x\":[2007,2008,2009,2010,2011,2012,2013,2014,2015,2016,2017,2018,2019,2020],\"xaxis\":\"x\",\"y\":[428856000.0,471870000.0,517580400.0,723855000.0,752167200.0,854630400.0,879026400.0,891673800.0,855978600.0,867663000.0,880182000.0,808920000.0,815340000.0,597060000.0],\"yaxis\":\"y\"},{\"hovertemplate\":\"material=Non-Ferrous Metal<br>year=%{x}<br>total_energy_saved=%{y}<br>total_waste_recycled_tonne=%{marker.size}<extra></extra>\",\"legendgroup\":\"Non-Ferrous Metal\",\"marker\":{\"color\":\"#FFA15A\",\"size\":[94700.0,160400.0,95900.0,92200.0,170000.0,124000.0,73000.0],\"sizemode\":\"area\",\"sizeref\":385.80555555555554,\"symbol\":\"circle\"},\"mode\":\"markers\",\"name\":\"Non-Ferrous Metal\",\"orientation\":\"v\",\"showlegend\":true,\"type\":\"scatter\",\"x\":[2014,2015,2016,2017,2018,2019,2020],\"xaxis\":\"x\",\"y\":[1325800000.0,2245600000.0,1342600000.0,1290800000.0,2380000000.0,1736000000.0,1022000000.0],\"yaxis\":\"y\"}],                        {\"legend\":{\"itemsizing\":\"constant\",\"title\":{\"text\":\"material\"},\"tracegroupgap\":0},\"margin\":{\"t\":60},\"template\":{\"data\":{\"bar\":[{\"error_x\":{\"color\":\"#2a3f5f\"},\"error_y\":{\"color\":\"#2a3f5f\"},\"marker\":{\"line\":{\"color\":\"#E5ECF6\",\"width\":0.5},\"pattern\":{\"fillmode\":\"overlay\",\"size\":10,\"solidity\":0.2}},\"type\":\"bar\"}],\"barpolar\":[{\"marker\":{\"line\":{\"color\":\"#E5ECF6\",\"width\":0.5},\"pattern\":{\"fillmode\":\"overlay\",\"size\":10,\"solidity\":0.2}},\"type\":\"barpolar\"}],\"carpet\":[{\"aaxis\":{\"endlinecolor\":\"#2a3f5f\",\"gridcolor\":\"white\",\"linecolor\":\"white\",\"minorgridcolor\":\"white\",\"startlinecolor\":\"#2a3f5f\"},\"baxis\":{\"endlinecolor\":\"#2a3f5f\",\"gridcolor\":\"white\",\"linecolor\":\"white\",\"minorgridcolor\":\"white\",\"startlinecolor\":\"#2a3f5f\"},\"type\":\"carpet\"}],\"choropleth\":[{\"colorbar\":{\"outlinewidth\":0,\"ticks\":\"\"},\"type\":\"choropleth\"}],\"contour\":[{\"colorbar\":{\"outlinewidth\":0,\"ticks\":\"\"},\"colorscale\":[[0.0,\"#0d0887\"],[0.1111111111111111,\"#46039f\"],[0.2222222222222222,\"#7201a8\"],[0.3333333333333333,\"#9c179e\"],[0.4444444444444444,\"#bd3786\"],[0.5555555555555556,\"#d8576b\"],[0.6666666666666666,\"#ed7953\"],[0.7777777777777778,\"#fb9f3a\"],[0.8888888888888888,\"#fdca26\"],[1.0,\"#f0f921\"]],\"type\":\"contour\"}],\"contourcarpet\":[{\"colorbar\":{\"outlinewidth\":0,\"ticks\":\"\"},\"type\":\"contourcarpet\"}],\"heatmap\":[{\"colorbar\":{\"outlinewidth\":0,\"ticks\":\"\"},\"colorscale\":[[0.0,\"#0d0887\"],[0.1111111111111111,\"#46039f\"],[0.2222222222222222,\"#7201a8\"],[0.3333333333333333,\"#9c179e\"],[0.4444444444444444,\"#bd3786\"],[0.5555555555555556,\"#d8576b\"],[0.6666666666666666,\"#ed7953\"],[0.7777777777777778,\"#fb9f3a\"],[0.8888888888888888,\"#fdca26\"],[1.0,\"#f0f921\"]],\"type\":\"heatmap\"}],\"heatmapgl\":[{\"colorbar\":{\"outlinewidth\":0,\"ticks\":\"\"},\"colorscale\":[[0.0,\"#0d0887\"],[0.1111111111111111,\"#46039f\"],[0.2222222222222222,\"#7201a8\"],[0.3333333333333333,\"#9c179e\"],[0.4444444444444444,\"#bd3786\"],[0.5555555555555556,\"#d8576b\"],[0.6666666666666666,\"#ed7953\"],[0.7777777777777778,\"#fb9f3a\"],[0.8888888888888888,\"#fdca26\"],[1.0,\"#f0f921\"]],\"type\":\"heatmapgl\"}],\"histogram\":[{\"marker\":{\"pattern\":{\"fillmode\":\"overlay\",\"size\":10,\"solidity\":0.2}},\"type\":\"histogram\"}],\"histogram2d\":[{\"colorbar\":{\"outlinewidth\":0,\"ticks\":\"\"},\"colorscale\":[[0.0,\"#0d0887\"],[0.1111111111111111,\"#46039f\"],[0.2222222222222222,\"#7201a8\"],[0.3333333333333333,\"#9c179e\"],[0.4444444444444444,\"#bd3786\"],[0.5555555555555556,\"#d8576b\"],[0.6666666666666666,\"#ed7953\"],[0.7777777777777778,\"#fb9f3a\"],[0.8888888888888888,\"#fdca26\"],[1.0,\"#f0f921\"]],\"type\":\"histogram2d\"}],\"histogram2dcontour\":[{\"colorbar\":{\"outlinewidth\":0,\"ticks\":\"\"},\"colorscale\":[[0.0,\"#0d0887\"],[0.1111111111111111,\"#46039f\"],[0.2222222222222222,\"#7201a8\"],[0.3333333333333333,\"#9c179e\"],[0.4444444444444444,\"#bd3786\"],[0.5555555555555556,\"#d8576b\"],[0.6666666666666666,\"#ed7953\"],[0.7777777777777778,\"#fb9f3a\"],[0.8888888888888888,\"#fdca26\"],[1.0,\"#f0f921\"]],\"type\":\"histogram2dcontour\"}],\"mesh3d\":[{\"colorbar\":{\"outlinewidth\":0,\"ticks\":\"\"},\"type\":\"mesh3d\"}],\"parcoords\":[{\"line\":{\"colorbar\":{\"outlinewidth\":0,\"ticks\":\"\"}},\"type\":\"parcoords\"}],\"pie\":[{\"automargin\":true,\"type\":\"pie\"}],\"scatter\":[{\"marker\":{\"colorbar\":{\"outlinewidth\":0,\"ticks\":\"\"}},\"type\":\"scatter\"}],\"scatter3d\":[{\"line\":{\"colorbar\":{\"outlinewidth\":0,\"ticks\":\"\"}},\"marker\":{\"colorbar\":{\"outlinewidth\":0,\"ticks\":\"\"}},\"type\":\"scatter3d\"}],\"scattercarpet\":[{\"marker\":{\"colorbar\":{\"outlinewidth\":0,\"ticks\":\"\"}},\"type\":\"scattercarpet\"}],\"scattergeo\":[{\"marker\":{\"colorbar\":{\"outlinewidth\":0,\"ticks\":\"\"}},\"type\":\"scattergeo\"}],\"scattergl\":[{\"marker\":{\"colorbar\":{\"outlinewidth\":0,\"ticks\":\"\"}},\"type\":\"scattergl\"}],\"scattermapbox\":[{\"marker\":{\"colorbar\":{\"outlinewidth\":0,\"ticks\":\"\"}},\"type\":\"scattermapbox\"}],\"scatterpolar\":[{\"marker\":{\"colorbar\":{\"outlinewidth\":0,\"ticks\":\"\"}},\"type\":\"scatterpolar\"}],\"scatterpolargl\":[{\"marker\":{\"colorbar\":{\"outlinewidth\":0,\"ticks\":\"\"}},\"type\":\"scatterpolargl\"}],\"scatterternary\":[{\"marker\":{\"colorbar\":{\"outlinewidth\":0,\"ticks\":\"\"}},\"type\":\"scatterternary\"}],\"surface\":[{\"colorbar\":{\"outlinewidth\":0,\"ticks\":\"\"},\"colorscale\":[[0.0,\"#0d0887\"],[0.1111111111111111,\"#46039f\"],[0.2222222222222222,\"#7201a8\"],[0.3333333333333333,\"#9c179e\"],[0.4444444444444444,\"#bd3786\"],[0.5555555555555556,\"#d8576b\"],[0.6666666666666666,\"#ed7953\"],[0.7777777777777778,\"#fb9f3a\"],[0.8888888888888888,\"#fdca26\"],[1.0,\"#f0f921\"]],\"type\":\"surface\"}],\"table\":[{\"cells\":{\"fill\":{\"color\":\"#EBF0F8\"},\"line\":{\"color\":\"white\"}},\"header\":{\"fill\":{\"color\":\"#C8D4E3\"},\"line\":{\"color\":\"white\"}},\"type\":\"table\"}]},\"layout\":{\"annotationdefaults\":{\"arrowcolor\":\"#2a3f5f\",\"arrowhead\":0,\"arrowwidth\":1},\"autotypenumbers\":\"strict\",\"coloraxis\":{\"colorbar\":{\"outlinewidth\":0,\"ticks\":\"\"}},\"colorscale\":{\"diverging\":[[0,\"#8e0152\"],[0.1,\"#c51b7d\"],[0.2,\"#de77ae\"],[0.3,\"#f1b6da\"],[0.4,\"#fde0ef\"],[0.5,\"#f7f7f7\"],[0.6,\"#e6f5d0\"],[0.7,\"#b8e186\"],[0.8,\"#7fbc41\"],[0.9,\"#4d9221\"],[1,\"#276419\"]],\"sequential\":[[0.0,\"#0d0887\"],[0.1111111111111111,\"#46039f\"],[0.2222222222222222,\"#7201a8\"],[0.3333333333333333,\"#9c179e\"],[0.4444444444444444,\"#bd3786\"],[0.5555555555555556,\"#d8576b\"],[0.6666666666666666,\"#ed7953\"],[0.7777777777777778,\"#fb9f3a\"],[0.8888888888888888,\"#fdca26\"],[1.0,\"#f0f921\"]],\"sequentialminus\":[[0.0,\"#0d0887\"],[0.1111111111111111,\"#46039f\"],[0.2222222222222222,\"#7201a8\"],[0.3333333333333333,\"#9c179e\"],[0.4444444444444444,\"#bd3786\"],[0.5555555555555556,\"#d8576b\"],[0.6666666666666666,\"#ed7953\"],[0.7777777777777778,\"#fb9f3a\"],[0.8888888888888888,\"#fdca26\"],[1.0,\"#f0f921\"]]},\"colorway\":[\"#636efa\",\"#EF553B\",\"#00cc96\",\"#ab63fa\",\"#FFA15A\",\"#19d3f3\",\"#FF6692\",\"#B6E880\",\"#FF97FF\",\"#FECB52\"],\"font\":{\"color\":\"#2a3f5f\"},\"geo\":{\"bgcolor\":\"white\",\"lakecolor\":\"white\",\"landcolor\":\"#E5ECF6\",\"showlakes\":true,\"showland\":true,\"subunitcolor\":\"white\"},\"hoverlabel\":{\"align\":\"left\"},\"hovermode\":\"closest\",\"mapbox\":{\"style\":\"light\"},\"paper_bgcolor\":\"white\",\"plot_bgcolor\":\"#E5ECF6\",\"polar\":{\"angularaxis\":{\"gridcolor\":\"white\",\"linecolor\":\"white\",\"ticks\":\"\"},\"bgcolor\":\"#E5ECF6\",\"radialaxis\":{\"gridcolor\":\"white\",\"linecolor\":\"white\",\"ticks\":\"\"}},\"scene\":{\"xaxis\":{\"backgroundcolor\":\"#E5ECF6\",\"gridcolor\":\"white\",\"gridwidth\":2,\"linecolor\":\"white\",\"showbackground\":true,\"ticks\":\"\",\"zerolinecolor\":\"white\"},\"yaxis\":{\"backgroundcolor\":\"#E5ECF6\",\"gridcolor\":\"white\",\"gridwidth\":2,\"linecolor\":\"white\",\"showbackground\":true,\"ticks\":\"\",\"zerolinecolor\":\"white\"},\"zaxis\":{\"backgroundcolor\":\"#E5ECF6\",\"gridcolor\":\"white\",\"gridwidth\":2,\"linecolor\":\"white\",\"showbackground\":true,\"ticks\":\"\",\"zerolinecolor\":\"white\"}},\"shapedefaults\":{\"line\":{\"color\":\"#2a3f5f\"}},\"ternary\":{\"aaxis\":{\"gridcolor\":\"white\",\"linecolor\":\"white\",\"ticks\":\"\"},\"baxis\":{\"gridcolor\":\"white\",\"linecolor\":\"white\",\"ticks\":\"\"},\"bgcolor\":\"#E5ECF6\",\"caxis\":{\"gridcolor\":\"white\",\"linecolor\":\"white\",\"ticks\":\"\"}},\"title\":{\"x\":0.05},\"xaxis\":{\"automargin\":true,\"gridcolor\":\"white\",\"linecolor\":\"white\",\"ticks\":\"\",\"title\":{\"standoff\":15},\"zerolinecolor\":\"white\",\"zerolinewidth\":2},\"yaxis\":{\"automargin\":true,\"gridcolor\":\"white\",\"linecolor\":\"white\",\"ticks\":\"\",\"title\":{\"standoff\":15},\"zerolinecolor\":\"white\",\"zerolinewidth\":2}}},\"xaxis\":{\"anchor\":\"y\",\"domain\":[0.0,1.0],\"title\":{\"text\":\"year\"}},\"yaxis\":{\"anchor\":\"x\",\"domain\":[0.0,1.0],\"title\":{\"text\":\"total_energy_saved\"}}},                        {\"responsive\": true}                    ).then(function(){\n",
       "                            \n",
       "var gd = document.getElementById('8e28c60a-4dc5-4f6b-9559-8b1d6eeef55d');\n",
       "var x = new MutationObserver(function (mutations, observer) {{\n",
       "        var display = window.getComputedStyle(gd).display;\n",
       "        if (!display || display === 'none') {{\n",
       "            console.log([gd, 'removed!']);\n",
       "            Plotly.purge(gd);\n",
       "            observer.disconnect();\n",
       "        }}\n",
       "}});\n",
       "\n",
       "// Listen for the removal of the full notebook cells\n",
       "var notebookContainer = gd.closest('#notebook-container');\n",
       "if (notebookContainer) {{\n",
       "    x.observe(notebookContainer, {childList: true});\n",
       "}}\n",
       "\n",
       "// Listen for the clearing of the current output cell\n",
       "var outputEl = gd.closest('.output');\n",
       "if (outputEl) {{\n",
       "    x.observe(outputEl, {childList: true});\n",
       "}}\n",
       "\n",
       "                        })                };                            </script>        </div>\n",
       "</body>\n",
       "</html>"
      ]
     },
     "metadata": {},
     "output_type": "display_data"
    }
   ],
   "source": [
    "fig = px.scatter(\n",
    "    total_data,\n",
    "    x=\"year\",\n",
    "    y=\"total_energy_saved\",\n",
    "    size=\"total_waste_recycled_tonne\",\n",
    "    color=\"material\",\n",
    "    size_max=60,\n",
    ")\n",
    "fig.show()\n"
   ]
  },
  {
   "cell_type": "code",
   "execution_count": 19,
   "metadata": {
    "cell_id": "00010-804cfa86-d25b-4e7a-8eb0-0393e3c7641c",
    "dc": {
     "key": "4"
    },
    "deepnote_cell_type": "code",
    "deepnote_to_be_reexecuted": false,
    "execution_millis": 14,
    "execution_start": 1629195008316,
    "source_hash": "7624fa4d",
    "trusted": true
   },
   "outputs": [
    {
     "data": {
      "text/plain": [
       "4100     18\n",
       "5774     18\n",
       "42       18\n",
       "642      14\n",
       "14000     7\n",
       "Name: energy_saved, dtype: int64"
      ]
     },
     "execution_count": 19,
     "metadata": {},
     "output_type": "execute_result"
    }
   ],
   "source": [
    "total_data.energy_saved.value_counts()"
   ]
  },
  {
   "attachments": {},
   "cell_type": "markdown",
   "metadata": {
    "cell_id": "00033-fecdf2af-7010-491f-812d-7b24f3eeba7a",
    "deepnote_cell_type": "markdown",
    "tags": []
   },
   "source": [
    "## Energy saved per year\n",
    "\n",
    "its time to calculate energy saved every year from 2003 to 2020 based on five waste types, plastics, paper, glass, ferrous and non-ferrous metal. \n",
    "\n",
    "- Group by per year\n",
    "- Summarize and extract total energy saved\n",
    "- Converting it into Pandas dataframe\n",
    "- Converting `total_energy_saved`from float to integer"
   ]
  },
  {
   "cell_type": "code",
   "execution_count": 20,
   "metadata": {
    "allow_embed": "code_output",
    "cell_id": "00011-e9ce177e-287d-4d39-acbb-15a5ca3fffc7",
    "dc": {
     "key": "4"
    },
    "deepnote_cell_type": "code",
    "deepnote_to_be_reexecuted": false,
    "execution_millis": 0,
    "execution_start": 1629195008317,
    "source_hash": "72c79e36",
    "trusted": true
   },
   "outputs": [],
   "source": [
    "annual_energy_savings = pd.DataFrame(\n",
    "    total_data.groupby(by=[\"year\"]).sum()[\"total_energy_saved\"],\n",
    "    columns=[\"total_energy_saved\"],\n",
    "    ).astype({\"total_energy_saved\": int})\n"
   ]
  },
  {
   "cell_type": "code",
   "execution_count": 21,
   "metadata": {
    "allow_embed": "code_output",
    "cell_id": "00025-6786eefd-6ffd-43cd-bbf1-2e3dda262262",
    "deepnote_cell_type": "code",
    "deepnote_to_be_reexecuted": false,
    "execution_millis": 16,
    "execution_start": 1629195008318,
    "source_hash": "a9e2cfd3",
    "tags": []
   },
   "outputs": [
    {
     "data": {
      "application/vnd.deepnote.dataframe.v2+json": {
       "column_count": 1,
       "columns": [
        {
         "dtype": "object",
         "name": "total_energy_saved",
         "stats": {
          "categories": [
           {
            "count": 1,
            "name": "5043.54 GWh"
           },
           {
            "count": 1,
            "name": "4802.68 GWh"
           },
           {
            "count": 3,
            "name": "3 others"
           }
          ],
          "nan_count": 0,
          "unique_count": 5
         }
        },
        {
         "dtype": "int64",
         "name": "_deepnote_index_column"
        }
       ],
       "row_count": 5,
       "rows_bottom": null,
       "rows_top": [
        {
         "_deepnote_index_column": 2016,
         "total_energy_saved": "5043.54 GWh"
        },
        {
         "_deepnote_index_column": 2017,
         "total_energy_saved": "4802.68 GWh"
        },
        {
         "_deepnote_index_column": 2018,
         "total_energy_saved": "5828.76 GWh"
        },
        {
         "_deepnote_index_column": 2019,
         "total_energy_saved": "4606.34 GWh"
        },
        {
         "_deepnote_index_column": 2020,
         "total_energy_saved": "3598.42 GWh"
        }
       ]
      },
      "text/html": [
       "<div>\n",
       "<style scoped>\n",
       "    .dataframe tbody tr th:only-of-type {\n",
       "        vertical-align: middle;\n",
       "    }\n",
       "\n",
       "    .dataframe tbody tr th {\n",
       "        vertical-align: top;\n",
       "    }\n",
       "\n",
       "    .dataframe thead th {\n",
       "        text-align: right;\n",
       "    }\n",
       "</style>\n",
       "<table border=\"1\" class=\"dataframe\">\n",
       "  <thead>\n",
       "    <tr style=\"text-align: right;\">\n",
       "      <th></th>\n",
       "      <th>total_energy_saved</th>\n",
       "    </tr>\n",
       "    <tr>\n",
       "      <th>year</th>\n",
       "      <th></th>\n",
       "    </tr>\n",
       "  </thead>\n",
       "  <tbody>\n",
       "    <tr>\n",
       "      <th>2016</th>\n",
       "      <td>5043.54 GWh</td>\n",
       "    </tr>\n",
       "    <tr>\n",
       "      <th>2017</th>\n",
       "      <td>4802.68 GWh</td>\n",
       "    </tr>\n",
       "    <tr>\n",
       "      <th>2018</th>\n",
       "      <td>5828.76 GWh</td>\n",
       "    </tr>\n",
       "    <tr>\n",
       "      <th>2019</th>\n",
       "      <td>4606.34 GWh</td>\n",
       "    </tr>\n",
       "    <tr>\n",
       "      <th>2020</th>\n",
       "      <td>3598.42 GWh</td>\n",
       "    </tr>\n",
       "  </tbody>\n",
       "</table>\n",
       "</div>"
      ],
      "text/plain": [
       "     total_energy_saved\n",
       "year                   \n",
       "2016        5043.54 GWh\n",
       "2017        4802.68 GWh\n",
       "2018        5828.76 GWh\n",
       "2019        4606.34 GWh\n",
       "2020        3598.42 GWh"
      ]
     },
     "execution_count": 21,
     "metadata": {},
     "output_type": "execute_result"
    }
   ],
   "source": [
    "annual_energy_savings[\"total_energy_saved\"] = (\n",
    "    round(annual_energy_savings[\"total_energy_saved\"] / 1000000, 2)\\\n",
    "    .astype(str) + \" GWh\"\n",
    ")\n",
    "annual_energy_savings.tail()\n"
   ]
  }
 ],
 "metadata": {
  "deepnote": {},
  "deepnote_execution_queue": [],
  "deepnote_notebook_id": "2780866b-b05c-436c-a110-d9e7be2e681a",
  "kernelspec": {
   "display_name": "Python 3",
   "language": "python",
   "name": "python3"
  },
  "language_info": {
   "codemirror_mode": {
    "name": "ipython",
    "version": 3
   },
   "file_extension": ".py",
   "mimetype": "text/x-python",
   "name": "python",
   "nbconvert_exporter": "python",
   "pygments_lexer": "ipython3",
   "version": "3.6.7"
  }
 },
 "nbformat": 4,
 "nbformat_minor": 2
}
